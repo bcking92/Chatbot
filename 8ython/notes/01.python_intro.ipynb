{
 "cells": [
  {
   "cell_type": "markdown",
   "metadata": {},
   "source": [
    "# Python 기초\n",
    "\n",
    "## 개요\n",
    "\n",
    "본 강의 자료는 [Python 공식 Tutorial](https://docs.python.org/3.7/tutorial/index.html)에 근거하여 만들어졌으며, Python 3.7버전에 해당하는 내용을 담고 있습니다.\n",
    "\n",
    "또한, 파이썬에서 제공하는 스타일 가이드인 [`PEP-8`](https://www.python.org/dev/peps/pep-0008/) 내용을 반영하였습니다. \n",
    "\n",
    "파이썬을 활용하는 다양한 IT기업들은 대내외적으로 본인들의 스타일 가이드를 제공하고 있습니다. \n",
    "\n",
    "* [구글 스타일 가이드](https://github.com/google/styleguide/blob/gh-pages/pyguide.md)\n",
    "* [Tensorflow 스타일 가이드](https://www.tensorflow.org/community/style_guide)"
   ]
  },
  {
   "cell_type": "markdown",
   "metadata": {},
   "source": [
    "## 식별자\n",
    "\n",
    "파이썬에서 식별자는 변수, 함수, 모듈, 클래스 등을 식별하는데 사용되는 이름이다. \n",
    "\n",
    "* 식별자의 이름은 영문알파벳, \\_, 숫자로 구성된다.\n",
    "* 첫 글자에 숫자가 올 수 없다. \n",
    "* 대소문자를 구별한다.\n",
    "* 아래의 예약어는 사용할 수 없다. \n",
    "\n",
    "```\n",
    "False, None, True, and, as, assert, break, class, continue, def, del, elif, else, except, finally, for, from, global, if, import, in, is, lambda, nonlocal, not, or, pass, raise, return, try, while, with, yield\n",
    "```"
   ]
  },
  {
   "cell_type": "code",
   "execution_count": null,
   "metadata": {},
   "outputs": [],
   "source": [
    "# 식별자들을 직접 확인해봅시다.\n",
    "import keyword\n",
    "keyword.kwlist"
   ]
  },
  {
   "cell_type": "markdown",
   "metadata": {},
   "source": [
    "*  내장함수나 모듈 등의 이름으로도 만들면 안된다."
   ]
  },
  {
   "cell_type": "code",
   "execution_count": null,
   "metadata": {},
   "outputs": [],
   "source": [
    "# 5를 string으로 바꿔봅시다.\n",
    "str(5)\n",
    "'5'"
   ]
  },
  {
   "cell_type": "code",
   "execution_count": null,
   "metadata": {},
   "outputs": [],
   "source": [
    "# 예시로 str에 값을 할당해보고, 오류를 확인해봅시다.\n",
    "str(5)\n",
    "str = 'hello'\n"
   ]
  },
  {
   "cell_type": "code",
   "execution_count": null,
   "metadata": {},
   "outputs": [],
   "source": [
    "# 뒤에 코드에 영향이 가니까 변수를 메모리에서 지워줍시다!!!!\n",
    "del str"
   ]
  },
  {
   "cell_type": "markdown",
   "metadata": {},
   "source": [
    "## 기초 문법\n",
    "\n",
    "### 인코딩 선언\n",
    "\n",
    "인코딩은 선언하지 않더라도 `UTF-8`로 기본 설정이 되어 있다. \n",
    "\n",
    "만약, 인코딩을 설정하려면 코드 상단에 아래와 같이 선언한다. \n",
    "주석으로 보이지만, Python `parser`에 의해 읽혀진다.\n",
    "\n",
    "```python\n",
    "# -*- coding: <encoding-name> -*- \n",
    "```"
   ]
  },
  {
   "cell_type": "markdown",
   "metadata": {},
   "source": [
    "### 주석(Comment)\n",
    "\n",
    "* 주석은 `#`으로 표현한다. \n",
    "* `docstring`은 `\"\"\"`으로 표현한다. \n",
    "   \n",
    "   : 여러 줄의 주석을 작성할 수 있으며, 보통 함수/클래스 선언 다음에 해당하는 설명을 위해 활용한다.\n",
    "   \n",
    "  \n",
    "* 예시 : flask 공식 문서 일부 발췌\n",
    "\n",
    "![flask 공식문서 예시](./images/01/docstring.png)"
   ]
  },
  {
   "cell_type": "code",
   "execution_count": 2,
   "metadata": {},
   "outputs": [
    {
     "data": {
      "text/plain": [
       "'이것은 덧셈 함수입니다.\\n    이 줄은 실행이 되지 않습니다.\\n    docstring을 쓰는 이유는 __doc__\\n    '"
      ]
     },
     "execution_count": 2,
     "metadata": {},
     "output_type": "execute_result"
    }
   ],
   "source": [
    "# 주석을 연습해봅시다. \n",
    "def mysum(x,y) :\n",
    "    '''이것은 덧셈 함수입니다.\n",
    "    이 줄은 실행이 되지 않습니다.\n",
    "    docstring을 쓰는 이유는 __doc__\n",
    "    '''\n",
    "    return x + y\n",
    "\n",
    "mysum.__doc__"
   ]
  },
  {
   "cell_type": "code",
   "execution_count": null,
   "metadata": {},
   "outputs": [],
   "source": [
    "# docstring은 다음과 같이 확인할 수 있습니다."
   ]
  },
  {
   "cell_type": "markdown",
   "metadata": {},
   "source": [
    "### 코드 라인\n",
    "* 기본적으로 파이썬에서는 `;` 을 작성하지 않는다.\n",
    "\n",
    "* 한 줄로 표기할 떄는 `;`를 작성하여 표기할 수 있다. "
   ]
  },
  {
   "cell_type": "code",
   "execution_count": 3,
   "metadata": {},
   "outputs": [
    {
     "name": "stdout",
     "output_type": "stream",
     "text": [
      "KIm\n",
      "byungchul\n"
     ]
    }
   ],
   "source": [
    "# print문을 두번 써보자.\n",
    "print('KIm')\n",
    "print('byungchul')"
   ]
  },
  {
   "cell_type": "code",
   "execution_count": 6,
   "metadata": {},
   "outputs": [
    {
     "ename": "SyntaxError",
     "evalue": "invalid syntax (<ipython-input-6-7e251d483c87>, line 2)",
     "output_type": "error",
     "traceback": [
      "\u001b[1;36m  File \u001b[1;32m\"<ipython-input-6-7e251d483c87>\"\u001b[1;36m, line \u001b[1;32m2\u001b[0m\n\u001b[1;33m    print('kim') print('bc')\u001b[0m\n\u001b[1;37m                     ^\u001b[0m\n\u001b[1;31mSyntaxError\u001b[0m\u001b[1;31m:\u001b[0m invalid syntax\n"
     ]
    }
   ],
   "source": [
    "# print문을 한줄로 이어서 써봅시다. 오류 메시지를 확인해주세요.\n",
    "print('kim') print('bc')"
   ]
  },
  {
   "cell_type": "code",
   "execution_count": 7,
   "metadata": {},
   "outputs": [
    {
     "name": "stdout",
     "output_type": "stream",
     "text": [
      "kim\n",
      "bc\n"
     ]
    }
   ],
   "source": [
    "# ;을 통해 오류를 해결해봅시다.\n",
    "print('kim');print('bc')"
   ]
  },
  {
   "cell_type": "markdown",
   "metadata": {},
   "source": [
    "* 줄을 여러줄 작성할 때는 역슬래시`\\`를 사용하여 아래와 같이 할 수 있다. "
   ]
  },
  {
   "cell_type": "code",
   "execution_count": 11,
   "metadata": {},
   "outputs": [
    {
     "name": "stdout",
     "output_type": "stream",
     "text": [
      "      파이썬은 쉽다.       파이썬은 강력하다.      \n"
     ]
    }
   ],
   "source": [
    "# print문을 통해 안되는 코드 예시 작성해봅시다.\n",
    "print('\\\n",
    "      파이썬은 쉽다. \\\n",
    "      파이썬은 강력하다.\\\n",
    "      ')"
   ]
  },
  {
   "cell_type": "code",
   "execution_count": null,
   "metadata": {},
   "outputs": [],
   "source": [
    "# print문을 통해 되는 코드 예시 작성해봅시다."
   ]
  },
  {
   "cell_type": "markdown",
   "metadata": {},
   "source": [
    "* `[]` `{}` `()`는 `\\` 없이도 가능하다."
   ]
  },
  {
   "cell_type": "code",
   "execution_count": 12,
   "metadata": {},
   "outputs": [],
   "source": [
    "# list를 두 줄에 걸쳐서 만들어봅시다.\n",
    "menu = [\n",
    "    \"짬뽕\",\n",
    "    \"햄버거\",\n",
    "    \"닭도리탕\",\n",
    "    \"부대찌개\"\n",
    "]\n",
    "\n",
    "matjip = {\n",
    "    \"백짬뽕\" : \"베이징코야\",\n",
    "    \"햄버거\" : \"바스버거\",\n",
    "    \"닭도리탕\" : \"고갯마루\",\n",
    "    \"부대찌개\" : \"대우식당\",\n",
    "    \"돼지고기\" : \"백운봉 막국수\"\n",
    "}"
   ]
  },
  {
   "cell_type": "markdown",
   "metadata": {},
   "source": [
    "# 변수(variable) 및 자료형\n",
    "\n",
    "\n",
    "<center><img src=\"./images/01/variable.png\", alt=\"variable\"/></center>"
   ]
  },
  {
   "cell_type": "markdown",
   "metadata": {},
   "source": [
    "\n",
    "<center><img src=\"./images/01/box.png\", alt=\"box\"/></center>"
   ]
  },
  {
   "cell_type": "markdown",
   "metadata": {},
   "source": [
    "* 변수는 `=`을 통해 할당(assignment) 된다. \n",
    "\n",
    "* 해당 자료형을 확인하기 위해서는 `type()`을 활용한다.\n",
    "\n",
    "* 해당 변수의 메모리 주소를 확인하기 위해서는 `id()`를 활용한다."
   ]
  },
  {
   "cell_type": "code",
   "execution_count": 14,
   "metadata": {},
   "outputs": [],
   "source": [
    "# 변수에 값을 할당해 봅시다.\n",
    "x = 'ssafy'\n"
   ]
  },
  {
   "cell_type": "code",
   "execution_count": 15,
   "metadata": {},
   "outputs": [
    {
     "data": {
      "text/plain": [
       "str"
      ]
     },
     "execution_count": 15,
     "metadata": {},
     "output_type": "execute_result"
    }
   ],
   "source": [
    "# type()을 사용해 봅시다.\n",
    "type(x)\n"
   ]
  },
  {
   "cell_type": "code",
   "execution_count": 17,
   "metadata": {},
   "outputs": [
    {
     "data": {
      "text/plain": [
       "'0x6266f40'"
      ]
     },
     "execution_count": 17,
     "metadata": {},
     "output_type": "execute_result"
    }
   ],
   "source": [
    "# id()를 사용해 봅시다.\n",
    "hex(id(x))"
   ]
  },
  {
   "cell_type": "markdown",
   "metadata": {},
   "source": [
    "* 같은 값을 동시에 할당할 수 있다."
   ]
  },
  {
   "cell_type": "code",
   "execution_count": 20,
   "metadata": {},
   "outputs": [
    {
     "name": "stdout",
     "output_type": "stream",
     "text": [
      "102866704\n",
      "102866704\n",
      "102866704\n"
     ]
    }
   ],
   "source": [
    "# 같은 값을 동시에 할당해봅시다.\n",
    "\n",
    "x = y = z = 1004\n",
    "print(id(x))\n",
    "print(id(y))\n",
    "print(id(z))"
   ]
  },
  {
   "cell_type": "markdown",
   "metadata": {},
   "source": [
    "* 다른 값을 동시에 할당 가능하다."
   ]
  },
  {
   "cell_type": "code",
   "execution_count": 22,
   "metadata": {},
   "outputs": [
    {
     "name": "stdout",
     "output_type": "stream",
     "text": [
      "kim\n",
      "28\n"
     ]
    }
   ],
   "source": [
    "# 동시에 두개의 변수에 값 두개를 할당해봅시다.\n",
    "name, age = 'kim', 28          # (name, age) = ('kim', 28)\n",
    "print(name)\n",
    "print(age)"
   ]
  },
  {
   "cell_type": "code",
   "execution_count": 23,
   "metadata": {},
   "outputs": [
    {
     "ename": "TypeError",
     "evalue": "cannot unpack non-iterable int object",
     "output_type": "error",
     "traceback": [
      "\u001b[1;31m---------------------------------------------------------------------------\u001b[0m",
      "\u001b[1;31mTypeError\u001b[0m                                 Traceback (most recent call last)",
      "\u001b[1;32m<ipython-input-23-bc07b8263727>\u001b[0m in \u001b[0;36m<module>\u001b[1;34m\u001b[0m\n\u001b[0;32m      1\u001b[0m \u001b[1;31m# 변수의 개수가 더 많을 때 오류를 알아봅시다.\u001b[0m\u001b[1;33m\u001b[0m\u001b[1;33m\u001b[0m\u001b[1;33m\u001b[0m\u001b[0m\n\u001b[1;32m----> 2\u001b[1;33m \u001b[0mx\u001b[0m\u001b[1;33m,\u001b[0m \u001b[0my\u001b[0m \u001b[1;33m=\u001b[0m \u001b[1;36m1\u001b[0m\u001b[1;33m\u001b[0m\u001b[1;33m\u001b[0m\u001b[0m\n\u001b[0m",
      "\u001b[1;31mTypeError\u001b[0m: cannot unpack non-iterable int object"
     ]
    }
   ],
   "source": [
    "# 변수의 개수가 더 많을 때 오류를 알아봅시다.\n",
    "x, y = 1"
   ]
  },
  {
   "cell_type": "code",
   "execution_count": 24,
   "metadata": {},
   "outputs": [
    {
     "ename": "ValueError",
     "evalue": "too many values to unpack (expected 2)",
     "output_type": "error",
     "traceback": [
      "\u001b[1;31m---------------------------------------------------------------------------\u001b[0m",
      "\u001b[1;31mValueError\u001b[0m                                Traceback (most recent call last)",
      "\u001b[1;32m<ipython-input-24-aba1cfae50a6>\u001b[0m in \u001b[0;36m<module>\u001b[1;34m\u001b[0m\n\u001b[0;32m      1\u001b[0m \u001b[1;31m# 변수의 개수가 더 적을 때 오류를 알아봅시다.\u001b[0m\u001b[1;33m\u001b[0m\u001b[1;33m\u001b[0m\u001b[1;33m\u001b[0m\u001b[0m\n\u001b[0;32m      2\u001b[0m \u001b[1;33m\u001b[0m\u001b[0m\n\u001b[1;32m----> 3\u001b[1;33m \u001b[0ma\u001b[0m\u001b[1;33m,\u001b[0m\u001b[0mb\u001b[0m \u001b[1;33m=\u001b[0m\u001b[1;36m1\u001b[0m\u001b[1;33m,\u001b[0m\u001b[1;36m2\u001b[0m\u001b[1;33m,\u001b[0m\u001b[1;36m3\u001b[0m\u001b[1;33m\u001b[0m\u001b[1;33m\u001b[0m\u001b[0m\n\u001b[0m",
      "\u001b[1;31mValueError\u001b[0m: too many values to unpack (expected 2)"
     ]
    }
   ],
   "source": [
    "# 변수의 개수가 더 적을 때 오류를 알아봅시다.\n",
    "\n",
    "a,b =1,2,3"
   ]
  },
  {
   "cell_type": "markdown",
   "metadata": {},
   "source": [
    "* 이를 활용하면 서로 값을 바꾸고 싶은 경우 아래와 같이 활용 가능하다."
   ]
  },
  {
   "cell_type": "code",
   "execution_count": 27,
   "metadata": {},
   "outputs": [
    {
     "name": "stdout",
     "output_type": "stream",
     "text": [
      "5\n",
      "10\n",
      "10\n",
      "5\n",
      "5\n",
      "10\n"
     ]
    }
   ],
   "source": [
    "# 변수 x와 y의 값을 바꿔봅시다.\n",
    "x,y = 5, 10\n",
    "\n",
    "print(x)\n",
    "print(y)\n",
    "\n",
    "x,y = y,x\n",
    "\n",
    "print(x)\n",
    "print(y)\n",
    "\n",
    "z = x\n",
    "x = y\n",
    "y = z\n",
    "\n",
    "print(x)\n",
    "print(y)"
   ]
  },
  {
   "cell_type": "markdown",
   "metadata": {},
   "source": [
    "## 수치형(Numbers)\n",
    "\n",
    "###  `int` (정수)\n",
    "\n",
    "모든 정수는 `int`로 표현된다.\n",
    "\n",
    "파이썬 3.x 버전에서는 `long` 타입은 없고 모두 `int` 형으로 표기 된다.\n",
    "\n",
    "10진수가 아닌 8진수 : `0o`/2진수 : `0b` /16진수: `0x`로도 표현 가능하다. "
   ]
  },
  {
   "cell_type": "code",
   "execution_count": 31,
   "metadata": {},
   "outputs": [
    {
     "name": "stdout",
     "output_type": "stream",
     "text": [
      "<class 'float'>\n",
      "<class 'int'>\n"
     ]
    }
   ],
   "source": [
    "# 변수에 정수를 넣고 해당 변수의 type을 알아봅시다.\n",
    "a = 3.5\n",
    "b = 3\n",
    "print(type(a))\n",
    "print(type(b))"
   ]
  },
  {
   "cell_type": "code",
   "execution_count": null,
   "metadata": {},
   "outputs": [],
   "source": [
    "# python 3.x에서 long은 없어졌습니다.\n",
    "# 보통 프로그래밍 언어 및 파이썬 2.x에서의 long은 OS 기준 32/64비트이다.\n",
    "# 파이썬 3.x에서는 모두 int로 통합되었다."
   ]
  },
  {
   "cell_type": "markdown",
   "metadata": {},
   "source": [
    "### 오버플로우(overflow)\n",
    "- 데이터 타입 별로 사용할 수 있는 메모리의 크기가 제한되어 있다.\n",
    "- 표현할 수 있는 수의 범위를 넘어가는 연산을 하게 되면, 기대했던 값이 출력되지 않는 현상, 즉 메모리가 차고 넘쳐 흐르는 현상\n",
    "\n",
    "### arbitrary-precision arithmetic\n",
    "- 파이썬에서 아주 큰 정수를 표현할 때 사용하는 메모리의 크기 변화\n",
    "- 사용할 수 있는 메모리양이 정해져 있는 기존의 방식과 달리, 현재 남아있는 만큼의 가용 메모리를 모두 수 표현에 끌어다 쓸 수 있는 형태.\n",
    "- 특정 값을 나타내는데 4바이트가 부족하다면 5바이트, 더 부족하면 6바이트까지 사용 할 수 있게 유동적으로 운용."
   ]
  },
  {
   "cell_type": "code",
   "execution_count": 34,
   "metadata": {},
   "outputs": [
    {
     "name": "stdout",
     "output_type": "stream",
     "text": [
      "2147483647\n",
      "4611686014132420609\n",
      "21267647892944572736998860269687930881\n"
     ]
    }
   ],
   "source": [
    "# 파이썬에서 가장 큰 숫자를 활용하기 위해 sys 모듈을 불러옵니다.\n",
    "# 파이썬은 기존 C 계열 프로그래밍 언어와 다르게 정수 자료형에서 오버플로우가 없다.\n",
    "# arbitrary-precision arithmetic를 사용하기 때문이다.\n",
    "import sys\n",
    "max_int = sys.maxsize\n",
    "print(max_int)\n",
    "big = max_int * max_int        #arbitrary-precision arithmetic 최대사이즈를 곱해도 연산가능\n",
    "print(big)\n",
    "rl_big = big * big\n",
    "print(rl_big)\n"
   ]
  },
  {
   "cell_type": "code",
   "execution_count": 40,
   "metadata": {},
   "outputs": [
    {
     "name": "stdout",
     "output_type": "stream",
     "text": [
      "2\n",
      "8\n",
      "10\n",
      "16\n"
     ]
    }
   ],
   "source": [
    "# n진수를 만들어보고, 출력 해봅시다.\n",
    "binary_num = 0b10\n",
    "print(binary_num)\n",
    "octal_num = 0o10\n",
    "print(octal_num)\n",
    "decimal_num = 10\n",
    "print(decimal_num)\n",
    "hexadecimal_num = 0x10\n",
    "print(hexadecimal_num)"
   ]
  },
  {
   "cell_type": "markdown",
   "metadata": {},
   "source": [
    "### `float`(부동소수점, 실수)\n",
    "\n",
    "실수는 `float`로 표현된다. \n",
    "\n",
    "다만, 실수를 컴퓨터가 표현하는 과정에서 부동소수점을 사용하며, **항상 같은 값으로 일치되지 않는다. (floating point rounding error)**\n",
    "\n",
    "이는 컴퓨터가 2진수(비트)를 통해 숫자를 표현하는 과정에서 생기는 오류이며, 대부분의 경우는 중요하지 않으나 값을 같은지 비교하는 과정에서 문제가 발생할 수 있다."
   ]
  },
  {
   "cell_type": "code",
   "execution_count": 42,
   "metadata": {},
   "outputs": [
    {
     "name": "stdout",
     "output_type": "stream",
     "text": [
      "3.5\n"
     ]
    },
    {
     "data": {
      "text/plain": [
       "float"
      ]
     },
     "execution_count": 42,
     "metadata": {},
     "output_type": "execute_result"
    }
   ],
   "source": [
    "# 변수에 실수를 넣고 해당 변수의 type을 알아봅시다.\n",
    "a =3.5\n",
    "print(a)\n",
    "type(a)"
   ]
  },
  {
   "cell_type": "code",
   "execution_count": 45,
   "metadata": {},
   "outputs": [
    {
     "name": "stdout",
     "output_type": "stream",
     "text": [
      "3.14\n"
     ]
    },
    {
     "data": {
      "text/plain": [
       "float"
      ]
     },
     "execution_count": 45,
     "metadata": {},
     "output_type": "execute_result"
    }
   ],
   "source": [
    "# e를 사용할 수도 있습니다.\n",
    "b = 314e-2\n",
    "print(b)\n",
    "type(b)"
   ]
  },
  {
   "cell_type": "markdown",
   "metadata": {},
   "source": [
    "* 실수의 경우 실제로 값을 처리하기 위해서는 조심할 필요가 있다."
   ]
  },
  {
   "cell_type": "code",
   "execution_count": 48,
   "metadata": {},
   "outputs": [
    {
     "data": {
      "text/plain": [
       "6.5"
      ]
     },
     "execution_count": 48,
     "metadata": {},
     "output_type": "execute_result"
    }
   ],
   "source": [
    "# 실수의 덧셈을 해봅시다.\n",
    "3 + 3.5"
   ]
  },
  {
   "cell_type": "code",
   "execution_count": 49,
   "metadata": {},
   "outputs": [
    {
     "data": {
      "text/plain": [
       "0.3599999999999999"
      ]
     },
     "execution_count": 49,
     "metadata": {},
     "output_type": "execute_result"
    }
   ],
   "source": [
    "# 실수의 뺄셈을 해봅시다.\n",
    "3.5 - 3.14"
   ]
  },
  {
   "cell_type": "code",
   "execution_count": 51,
   "metadata": {},
   "outputs": [
    {
     "data": {
      "text/plain": [
       "0.36"
      ]
     },
     "execution_count": 51,
     "metadata": {},
     "output_type": "execute_result"
    }
   ],
   "source": [
    "# 우리가 원하는대로 반올림을 해봅시다.\n",
    "round(3.5-3.14,2)"
   ]
  },
  {
   "cell_type": "code",
   "execution_count": 53,
   "metadata": {},
   "outputs": [
    {
     "data": {
      "text/plain": [
       "False"
      ]
     },
     "execution_count": 53,
     "metadata": {},
     "output_type": "execute_result"
    }
   ],
   "source": [
    "# 두 개의 값이 같은지 확인해봅시다.\n",
    "(3.5 - 3.15) == 0.35 "
   ]
  },
  {
   "cell_type": "markdown",
   "metadata": {},
   "source": [
    "* 따라서 다음과 같은 방법으로 처리 할 수 있다. 이외에 다양한 방법이 있음"
   ]
  },
  {
   "cell_type": "code",
   "execution_count": 56,
   "metadata": {},
   "outputs": [
    {
     "data": {
      "text/plain": [
       "True"
      ]
     },
     "execution_count": 56,
     "metadata": {},
     "output_type": "execute_result"
    }
   ],
   "source": [
    "# 기본적인 처리방법을 알아봅시다.\n",
    "a = 3.5 - 3.15\n",
    "b = 0.35\n",
    "abs(a - b) <= 1e-10"
   ]
  },
  {
   "cell_type": "code",
   "execution_count": 57,
   "metadata": {},
   "outputs": [
    {
     "data": {
      "text/plain": [
       "True"
      ]
     },
     "execution_count": 57,
     "metadata": {},
     "output_type": "execute_result"
    }
   ],
   "source": [
    "# sys 모듈을 통해 처리하는 방법을 알아봅시다.\n",
    "import sys\n",
    "abs(a-b) <= sys.float_info.epsilon"
   ]
  },
  {
   "cell_type": "code",
   "execution_count": 58,
   "metadata": {},
   "outputs": [
    {
     "data": {
      "text/plain": [
       "True"
      ]
     },
     "execution_count": 58,
     "metadata": {},
     "output_type": "execute_result"
    }
   ],
   "source": [
    "# python 3.5부터 활용 가능한 math 모듈을 통해 처리하는 법을 알아봅시다.\n",
    "import math\n",
    "math.isclose(a,b)"
   ]
  },
  {
   "cell_type": "markdown",
   "metadata": {},
   "source": [
    "### `complex` (복소수)\n",
    "\n",
    "복소수는 허수부를 `j`로 표현한다. "
   ]
  },
  {
   "cell_type": "code",
   "execution_count": 61,
   "metadata": {},
   "outputs": [
    {
     "data": {
      "text/plain": [
       "complex"
      ]
     },
     "execution_count": 61,
     "metadata": {},
     "output_type": "execute_result"
    }
   ],
   "source": [
    "# 변수에 복소수를 넣고 해당 변수의 type을 알아봅시다.\n",
    "a = 3 + 1j\n",
    "type(a)"
   ]
  },
  {
   "cell_type": "code",
   "execution_count": 63,
   "metadata": {},
   "outputs": [
    {
     "data": {
      "text/plain": [
       "3.0"
      ]
     },
     "execution_count": 63,
     "metadata": {},
     "output_type": "execute_result"
    }
   ],
   "source": [
    "# 복소수와 관련된 메소드들을 확인해봅시다.\n",
    "a.imag\n",
    "a.real"
   ]
  },
  {
   "cell_type": "markdown",
   "metadata": {},
   "source": [
    "## Bool\n",
    "\n",
    "파이썬에는 `True`와 `False`로 이뤄진 `bool` 타입이 있다.\n",
    "\n",
    "비교/논리 연산을 수행 등에서 활용된다.\n",
    "\n",
    "다음은 `False`로 변환됩니다.\n",
    "```\n",
    "0, 0.0, (), [], {}, '', None\n",
    "```"
   ]
  },
  {
   "cell_type": "code",
   "execution_count": 66,
   "metadata": {},
   "outputs": [
    {
     "name": "stdout",
     "output_type": "stream",
     "text": [
      "<class 'bool'>\n",
      "<class 'bool'>\n"
     ]
    }
   ],
   "source": [
    "# True와 False의 타입들을 알아봅시다.\n",
    "print(type(True))\n",
    "print(type(False))"
   ]
  },
  {
   "cell_type": "markdown",
   "metadata": {},
   "source": [
    "* 형변환(Type Conversion)에서 추가적으로 다루는 내용입니다."
   ]
  },
  {
   "cell_type": "code",
   "execution_count": 76,
   "metadata": {},
   "outputs": [
    {
     "name": "stdout",
     "output_type": "stream",
     "text": [
      "False\n",
      "True\n",
      "False\n",
      "False\n",
      "False\n",
      "False\n",
      "True\n",
      "True\n"
     ]
    }
   ],
   "source": [
    "# 다양한 True, False 상황들을 확인해봅시다.\n",
    "print(bool(0))\n",
    "print(bool(1))\n",
    "print(bool(None))\n",
    "print(bool([]))\n",
    "print(bool({}))\n",
    "print(bool(''))\n",
    "print(bool(['helo']))\n",
    "print(bool({'2':'3'}))"
   ]
  },
  {
   "cell_type": "markdown",
   "metadata": {},
   "source": [
    "## None\n",
    "\n",
    "파이썬에서는 값이 없음을 표현하기 위해 `None`타입이 존재합니다."
   ]
  },
  {
   "cell_type": "code",
   "execution_count": 84,
   "metadata": {},
   "outputs": [
    {
     "name": "stdout",
     "output_type": "stream",
     "text": [
      "[5, 6, 7, 8, 9]\n",
      "None\n"
     ]
    }
   ],
   "source": [
    "# None의 타입을 알아봅시다.\n",
    "sorted_list = [5,4,3,2,1].sort()\n",
    "\n",
    "original_list = [9,8,7,6,5]\n",
    "original_list.sort()\n",
    "\n",
    "print(original_list)\n",
    "print(sorted_list)"
   ]
  },
  {
   "cell_type": "code",
   "execution_count": 83,
   "metadata": {},
   "outputs": [
    {
     "name": "stdout",
     "output_type": "stream",
     "text": [
      "None\n",
      "<class 'NoneType'>\n"
     ]
    }
   ],
   "source": [
    "# 변수에 저장해서 확인해봅시다.\n",
    "a = None\n",
    "print(a)\n",
    "print(type(a))"
   ]
  },
  {
   "cell_type": "markdown",
   "metadata": {},
   "source": [
    "## 문자형(String)\n",
    "\n",
    "### 기본 활용법\n",
    "\n",
    "* 문자열은 Single quotes(`'`)나 Double quotes(`\"`)을 활용하여 표현 가능하다. \n",
    "\n",
    "* 단, 문자열을 묶을 때 동일한 문장부호를 활용해야하며, `PEP-8`에서는 **하나의 문장부호를 선택**하여 유지하도록 하고 있습니다. \n",
    "(Pick a rule and Stick to it)"
   ]
  },
  {
   "cell_type": "code",
   "execution_count": 87,
   "metadata": {},
   "outputs": [
    {
     "name": "stdout",
     "output_type": "stream",
     "text": [
      "김지수 프로님은 얘기했다. \"오늘은 종례가 없을거에요\"\n",
      "김병철 김지수 프로님은 얘기했다. \"오늘은 종례가 없을거에요\"\n",
      "김병철 김지수 프로님은 얘기했다. \"오늘은 종례가 없을거에요\"\n"
     ]
    }
   ],
   "source": [
    "# 변수에 문자열을 넣고 출력해봅시다.\n",
    "pro_said = '김지수 프로님은 얘기했다. \"오늘은 종례가 없을거에요\"'\n",
    "print(pro_said)\n",
    "\n",
    "name = '김병철'\n",
    "print(name, pro_said)\n",
    "print(name + ' ' + pro_said)"
   ]
  },
  {
   "cell_type": "code",
   "execution_count": 89,
   "metadata": {},
   "outputs": [
    {
     "name": "stdout",
     "output_type": "stream",
     "text": [
      "당신의 나이를 입력해 주세요 : 31\n",
      "31\n"
     ]
    }
   ],
   "source": [
    "# 사용자에게 받은 입력은 기본적으로 str입니다\n",
    "age = input(\"당신의 나이를 입력해 주세요 : \")\n",
    "print(age)"
   ]
  },
  {
   "cell_type": "markdown",
   "metadata": {},
   "source": [
    "* 다만 문자열 안에 문장부호(`'`, `\"`)가 활용될 경우 이스케이프 문자(`\\`)를 사용하는 것 대신 활용 가능 합니다. "
   ]
  },
  {
   "cell_type": "code",
   "execution_count": 94,
   "metadata": {},
   "outputs": [
    {
     "name": "stdout",
     "output_type": "stream",
     "text": [
      "철수가 말했다, '안녕'\n",
      "철수가 말했다, \"안녕\"\n"
     ]
    }
   ],
   "source": [
    "# 문자열 안에 문장부호를 활용해서 오류를 확인해봅시다.\n",
    "print('철수가 말했다, \\'안녕\\'')\n",
    "print('철수가 말했다, \"안녕\"')"
   ]
  },
  {
   "cell_type": "code",
   "execution_count": null,
   "metadata": {},
   "outputs": [],
   "source": [
    "# 오류를 이스케이프 문자와 서로 다른 문장부호를 통해 해결해봅시다."
   ]
  },
  {
   "cell_type": "markdown",
   "metadata": {},
   "source": [
    "* 여러줄에 걸쳐있는 문장은 다음과 같이 표현 가능합니다.\n",
    "\n",
    "`PEP-8`에 따르면 이 경우에는 반드시 `\"\"\"`를 사용하도록 되어 있습니다."
   ]
  },
  {
   "cell_type": "code",
   "execution_count": 95,
   "metadata": {},
   "outputs": [
    {
     "name": "stdout",
     "output_type": "stream",
     "text": [
      "여러줄에      걸쳐서      출력하기\n",
      "여러줄에\n",
      "        #걸쳐서\n",
      "        #출력하기\n"
     ]
    }
   ],
   "source": [
    "# 여러줄을 출력해봅시다.\n",
    "print('여러줄에\\\n",
    "      걸쳐서\\\n",
    "      출력하기')\n",
    "print(\"\"\"여러줄에\n",
    "        #걸쳐서\n",
    "        #출력하기\"\"\")"
   ]
  },
  {
   "cell_type": "code",
   "execution_count": 100,
   "metadata": {},
   "outputs": [
    {
     "name": "stdout",
     "output_type": "stream",
     "text": [
      "안녕하세요저는john\n",
      "안녕하세요, 저는 john입니다.\n"
     ]
    }
   ],
   "source": [
    "# 물론 string interpolation도 가능합니다.\n",
    "# 1. concatenation 합체\n",
    "\n",
    "greeting = '안녕하세요'+'저는'+ 'john'\n",
    "print(greeting)\n",
    "\n",
    "# 2. interpolatiion(보간법 수술(사입))\n",
    "name = 'john'\n",
    "greeting2 = f'안녕하세요, 저는 {name}입니다.'\n",
    "print(greeting2)"
   ]
  },
  {
   "cell_type": "markdown",
   "metadata": {},
   "source": [
    "## 이스케이프 문자열\n",
    "\n",
    "문자열을 활용하는 경우 특수문자 혹은 조작을 하기 위하여 사용되는 것으로 `\\`를 활용하여 이를 구분한다. \n",
    "\n",
    "|<center>예약문자</center>|내용(의미)|\n",
    "|:--------:|:--------:|\n",
    "|\\n|줄바꿈|\n",
    "|\\t|탭|\n",
    "|\\r|캐리지리턴|\n",
    "|\\0|널(Null)|\n",
    "|`\\\\`|`\\`|\n",
    "|\\'|단일인용부호(')|\n",
    "|\\\"|이중인용부호(\")|"
   ]
  },
  {
   "cell_type": "code",
   "execution_count": 104,
   "metadata": {},
   "outputs": [
    {
     "name": "stdout",
     "output_type": "stream",
     "text": [
      "SSAFY는\n",
      "최고의\n",
      "SSAFY is the \t best\n",
      "SSAFY is the \r",
      " best\n",
      "SSAFY \\is the \n"
     ]
    }
   ],
   "source": [
    "# 이스케이프 문자열을 조합하여 프린트해봅시다.\n",
    "print('SSAFY는\\n최고의')\n",
    "print('SSAFY is the \\t best')\n",
    "print('SSAFY is the \\r best')\n",
    "print('SSAFY \\\\is the ')"
   ]
  },
  {
   "cell_type": "markdown",
   "metadata": {},
   "source": [
    "* 이를 출력할 때 활용할 수가 있다."
   ]
  },
  {
   "cell_type": "code",
   "execution_count": 106,
   "metadata": {},
   "outputs": [
    {
     "name": "stdout",
     "output_type": "stream",
     "text": [
      "내용을 띄워서 출력하고 싶으면\n",
      "이렇게 하시면 되요붙었쥬?\n"
     ]
    }
   ],
   "source": [
    "# print를 하는 과정에서도 이스케이프 문자열을 활용 가능합니다.\n",
    "print('내용을 띄워서 출력하고 싶으면', end ='\\n') #defalt로 한칸 \n",
    "print('이렇게 하시면 되요', end = '')\n",
    "print('붙었쥬?')\n"
   ]
  },
  {
   "cell_type": "code",
   "execution_count": 107,
   "metadata": {},
   "outputs": [
    {
     "name": "stdout",
     "output_type": "stream",
     "text": [
      "위와 같은 개행문자 말고도 다양한 문자를 넣을 수 있습니다.\n",
      "예를 들어 느낌표,!"
     ]
    }
   ],
   "source": [
    "# 물론, end 옵션은 이스케이프 문자열이 아닌 다른 것도 가능합니다.\n",
    "print('위와 같은 개행문자 말고도 다양한 문자를 넣을 수 있습니다.')\n",
    "print('예를 들어 느낌표,', end = '!')"
   ]
  },
  {
   "cell_type": "markdown",
   "metadata": {},
   "source": [
    "### String interpolation \n",
    "\n",
    "1) `%-formatting` \n",
    "\n",
    "2) [`str.format()` ](https://pyformat.info/)\n",
    "\n",
    "3) [`f-strings`](https://www.python.org/dev/peps/pep-0498/) : 파이썬 3.6 버전 이후에 지원 되는 사항입니다.\n",
    "\n",
    "`.format()`는 해당 [링크](https://pyformat.info/)에서 확인바랍니다."
   ]
  },
  {
   "cell_type": "code",
   "execution_count": 111,
   "metadata": {},
   "outputs": [],
   "source": [
    "# name 변수에 이름을 입력해봅시다.\n",
    "name = 'Kim Byung Chul'\n",
    "age = 28\n",
    "major = 'IE'\n",
    "address = 'suwon'"
   ]
  },
  {
   "cell_type": "code",
   "execution_count": 115,
   "metadata": {},
   "outputs": [
    {
     "name": "stdout",
     "output_type": "stream",
     "text": [
      "Hello, I am name i am age years old I majored in major I live in address\n",
      "Hello, I am Kim Byung Chul, I am 28 years old I majored in IE, I live in suwon\n"
     ]
    }
   ],
   "source": [
    "# %-formatting을 활용해봅시다.\n",
    "print('Hello, I am name i am age years old I majored in major I live in address')\n",
    "print('Hello, I am %s, I am %i years old I majored in %s, I live in %s' % (name, age,major,address))"
   ]
  },
  {
   "cell_type": "code",
   "execution_count": 112,
   "metadata": {},
   "outputs": [
    {
     "name": "stdout",
     "output_type": "stream",
     "text": [
      "Hello, I am Kim Byung Chul, I am 28 years old, I majored in IE, I live in suwon\n"
     ]
    }
   ],
   "source": [
    "# str.format()을 활용해봅시다.\n",
    "print('Hello, I am {0}, I am {1} years old, I majored in {2}, I live in {3}'.format(name, age, major, address))"
   ]
  },
  {
   "cell_type": "code",
   "execution_count": 116,
   "metadata": {},
   "outputs": [
    {
     "name": "stdout",
     "output_type": "stream",
     "text": [
      "Hello, I am Kim Byung Chul, I am 28 years old, I majored in IE, I live in suwon\n"
     ]
    }
   ],
   "source": [
    "# f-string을 활용해봅시다.\n",
    "print(f'Hello, I am {name}, I am {age} years old, I majored in {major}, I live in {address}')"
   ]
  },
  {
   "cell_type": "markdown",
   "metadata": {},
   "source": [
    "* f-strings에서는 형식을 지정할 수 있으며,"
   ]
  },
  {
   "cell_type": "code",
   "execution_count": null,
   "metadata": {},
   "outputs": [],
   "source": [
    "# 다양한 형식을 활용하기 위해 datetime 모듈로 오늘을 표현해봅시다."
   ]
  },
  {
   "cell_type": "code",
   "execution_count": 126,
   "metadata": {},
   "outputs": [
    {
     "name": "stdout",
     "output_type": "stream",
     "text": [
      "2019-07-15 14:19:02.838057\n",
      "오늘은 2019년 7월 15일 Monday 14시 19분\n"
     ]
    }
   ],
   "source": [
    "import datetime\n",
    "today = datetime.datetime.now()\n",
    "print(today)\n",
    "\n",
    "# 오늘은 xxxx년 xx월 xx일 xx\n",
    "print (f'오늘은 {today.year}년 {today.month}월 {today.day}일 {today:%A} {today.hour}시 {today.minute}분')"
   ]
  },
  {
   "cell_type": "markdown",
   "metadata": {},
   "source": [
    "* 연산과 출력형식 지정도 가능합니다."
   ]
  },
  {
   "cell_type": "code",
   "execution_count": 127,
   "metadata": {},
   "outputs": [
    {
     "data": {
      "text/plain": [
       "'원주율이 3.141592일 때, 반지름이 2인 원의 넓이는 12.566368'"
      ]
     },
     "execution_count": 127,
     "metadata": {},
     "output_type": "execute_result"
    }
   ],
   "source": [
    "# string interpolation에서 연산과 숫자 출력형식을 지정해봅시다.\n",
    "pi = 3.141592\n",
    "radius = 2\n",
    "f'원주율이 {pi}일 때, 반지름이 {radius}인 원의 넓이는 {pi * (radius ** 2)}'"
   ]
  },
  {
   "cell_type": "markdown",
   "metadata": {},
   "source": [
    "# 연산자\n",
    "\n",
    "## 산술 연산자\n",
    "Python에서는 기본적인 사칙연산이 가능합니다. \n",
    "\n",
    "|연산자|내용|\n",
    "|----|---|\n",
    "|+|덧셈|\n",
    "|-|뺄셈|\n",
    "|\\*|곱셈|\n",
    "|/|나눗셈|\n",
    "|//|몫|\n",
    "|%|나머지(modulo)|\n",
    "|\\*\\*|거듭제곱|\n"
   ]
  },
  {
   "cell_type": "code",
   "execution_count": 129,
   "metadata": {},
   "outputs": [
    {
     "name": "stdout",
     "output_type": "stream",
     "text": [
      "10715086071862673209484250490600018105614048117055336074437503883703510511249361224931983788156958581275946729175531468251871452856923140435984577574698574803934567774824230985421074605062371141877954182153046474983581941267398767559165543946077062914571196477686542167660429831652624386837205668069376\n"
     ]
    }
   ],
   "source": [
    "# 2의 1000승을 확인해봅시다.\n",
    "print(2 ** 1000)"
   ]
  },
  {
   "cell_type": "code",
   "execution_count": 135,
   "metadata": {},
   "outputs": [
    {
     "name": "stdout",
     "output_type": "stream",
     "text": [
      "2.5\n",
      "2\n",
      "2\n",
      "1\n"
     ]
    }
   ],
   "source": [
    "# 나눗셈과 관련된 산술연산자를 활용해봅시다.\n",
    "print(5/2)\n",
    "print(5//2)\n",
    "print(int(5//2))\n",
    "print(5%2)             # mod"
   ]
  },
  {
   "cell_type": "code",
   "execution_count": 143,
   "metadata": {},
   "outputs": [
    {
     "name": "stdout",
     "output_type": "stream",
     "text": [
      "몫은 :4, 나머지는 1\n"
     ]
    }
   ],
   "source": [
    "# divmod는 나눗셈과 관련된 함수입니다.\n",
    "\n",
    "quotient, remainder = divmod(13,3)\n",
    "print(f'몫은 :{quotient}, 나머지는 {remainder}')"
   ]
  },
  {
   "cell_type": "markdown",
   "metadata": {},
   "source": [
    "* 양수/음수도 표현 가능합니다."
   ]
  },
  {
   "cell_type": "code",
   "execution_count": 142,
   "metadata": {},
   "outputs": [
    {
     "name": "stdout",
     "output_type": "stream",
     "text": [
      "-4\n",
      "4\n"
     ]
    }
   ],
   "source": [
    "# 음수 양수 표현도 해봅시다.\n",
    "pos = 4\n",
    "print(-pos)\n",
    "neg = -4\n",
    "print(-neg)"
   ]
  },
  {
   "cell_type": "markdown",
   "metadata": {},
   "source": [
    "## 비교 연산자\n",
    "\n",
    "우리가 수학에서 배운 연산자와 동일하게 값을 비교할 수 있습니다.\n",
    "\n",
    "|연산자|내용|\n",
    "|----|---|\n",
    "|a > b|초과|\n",
    "|a < b|미만|\n",
    "|a >= b|이상|\n",
    "|a <= b|이하|\n",
    "|a == b|같음|\n",
    "|a != b|같지않음|\n",
    "\n"
   ]
  },
  {
   "cell_type": "code",
   "execution_count": 144,
   "metadata": {},
   "outputs": [
    {
     "data": {
      "text/plain": [
       "True"
      ]
     },
     "execution_count": 144,
     "metadata": {},
     "output_type": "execute_result"
    }
   ],
   "source": [
    "# 숫자의 대소관계를 비교해봅시다.\n",
    "3 < 6"
   ]
  },
  {
   "cell_type": "code",
   "execution_count": 145,
   "metadata": {},
   "outputs": [
    {
     "data": {
      "text/plain": [
       "True"
      ]
     },
     "execution_count": 145,
     "metadata": {},
     "output_type": "execute_result"
    }
   ],
   "source": [
    "# 같은 숫자인지 확인해봅시다.\n",
    "\n",
    "3 == 3"
   ]
  },
  {
   "cell_type": "code",
   "execution_count": 150,
   "metadata": {},
   "outputs": [
    {
     "name": "stdout",
     "output_type": "stream",
     "text": [
      "False\n",
      "True\n"
     ]
    }
   ],
   "source": [
    "# 다른 숫자인지 확인해봅시다.\n",
    "\n",
    "print(3 != 3)\n",
    "\n",
    "print(3.0 == 3)\n"
   ]
  },
  {
   "cell_type": "code",
   "execution_count": 151,
   "metadata": {},
   "outputs": [
    {
     "name": "stdout",
     "output_type": "stream",
     "text": [
      "True\n",
      "False\n"
     ]
    }
   ],
   "source": [
    "# 문자열도 같은지 확인해봅시다.\n",
    "print('abc' == 'abc')\n",
    "print('ABC' == 'abc')\n"
   ]
  },
  {
   "cell_type": "markdown",
   "metadata": {},
   "source": [
    "## 논리 연산자\n",
    "\n",
    "|연산자|내용|\n",
    "|---|---|\n",
    "|a and b|a와 b 모두 True시만 True|\n",
    "|a or b|a 와 b 모두 False시만 False|\n",
    "|not a|True -> False, False -> True|\n",
    "\n",
    "우리가 보통 알고 있는 `&` `|`은 파이썬에서 비트 연산자이다."
   ]
  },
  {
   "cell_type": "code",
   "execution_count": 152,
   "metadata": {},
   "outputs": [
    {
     "name": "stdout",
     "output_type": "stream",
     "text": [
      "True\n",
      "False\n",
      "False\n",
      "False\n"
     ]
    }
   ],
   "source": [
    "# and과 관련해서 모든 case를 출력해봅시다.\n",
    "print(True and True)\n",
    "print(True and False)\n",
    "print(False and True)\n",
    "print(False and False)"
   ]
  },
  {
   "cell_type": "code",
   "execution_count": 155,
   "metadata": {},
   "outputs": [
    {
     "name": "stdout",
     "output_type": "stream",
     "text": [
      "True\n",
      "True\n",
      "True\n",
      "False\n"
     ]
    }
   ],
   "source": [
    "# or과 관련해서 모든 case를 출력해봅시다.\n",
    "print(True or True)\n",
    "print(True or False)\n",
    "print(False or True)\n",
    "print(False or False)"
   ]
  },
  {
   "cell_type": "code",
   "execution_count": 159,
   "metadata": {},
   "outputs": [
    {
     "name": "stdout",
     "output_type": "stream",
     "text": [
      "False\n",
      "True\n",
      "True\n",
      "True\n"
     ]
    }
   ],
   "source": [
    "# not을 활용해봅시다.\n",
    "print(not True)\n",
    "print(not 0)\n",
    "print(not '')\n",
    "print(not [])"
   ]
  },
  {
   "cell_type": "markdown",
   "metadata": {},
   "source": [
    "* 파이썬에서 and는 a가 거짓이면 a를 리턴하고, 참이면 b를 리턴한다.\n",
    "* 파이썬에서 or은 a가 참이면 a를 리턴하고, 거짓이면 b를 리턴한다."
   ]
  },
  {
   "cell_type": "code",
   "execution_count": 169,
   "metadata": {},
   "outputs": [
    {
     "name": "stdout",
     "output_type": "stream",
     "text": [
      "5\n",
      "0\n",
      "0\n",
      "0\n",
      "0\n",
      "False\n"
     ]
    }
   ],
   "source": [
    "# and의 단축평가(short-circuit evaluation)에 대해서 알아봅시다.\n",
    "print(3 and 5)\n",
    "print(3 and 0)\n",
    "print(0 and 3)\n",
    "print(0 and 0)\n",
    "print(0 and False)\n",
    "print(False and 0)"
   ]
  },
  {
   "cell_type": "code",
   "execution_count": 168,
   "metadata": {},
   "outputs": [
    {
     "name": "stdout",
     "output_type": "stream",
     "text": [
      "3\n",
      "3\n",
      "3\n",
      "0\n",
      "0\n",
      "False\n"
     ]
    }
   ],
   "source": [
    "# or의 단축평가(short-circuit evaluation)에 대해서 알아봅시다.\n",
    "print(3 or 5)\n",
    "print(3 or 0)\n",
    "print(0 or 3)\n",
    "print(0 or 0)\n",
    "print(False or 0)\n",
    "print(0 or False)"
   ]
  },
  {
   "cell_type": "markdown",
   "metadata": {},
   "source": [
    "## 복합 연산자\n",
    "\n",
    "복합 연산자는 연산과 대입이 함께 이뤄진다. \n",
    "\n",
    "가장 많이 활용되는 경우는 반복문을 통해서 개수를 카운트하거나 할 때 활용된다.\n",
    "\n",
    "|연산자|내용|\n",
    "|----|---|\n",
    "|a += b|a = a + b|\n",
    "|a -= b|a = a - b|\n",
    "|a \\*= b|a = a \\* b|\n",
    "|a /= b|a = a / b|\n",
    "|a //= b|a = a // b|\n",
    "|a %= b|a = a % b|\n",
    "|a \\*\\*= b|a = a ** b|"
   ]
  },
  {
   "cell_type": "code",
   "execution_count": 171,
   "metadata": {},
   "outputs": [
    {
     "name": "stdout",
     "output_type": "stream",
     "text": [
      "0\n",
      "1\n",
      "2\n",
      "3\n",
      "4\n",
      "5\n"
     ]
    }
   ],
   "source": [
    "# 복합연산자는 이럴 때 사용됩니다.\n",
    "count = 0\n",
    "while count < 5 :\n",
    "    print(count)\n",
    "    count += 1\n",
    "print(count)"
   ]
  },
  {
   "cell_type": "markdown",
   "metadata": {},
   "source": [
    "## 기타 연산자\n",
    "\n",
    "### Concatenation\n",
    "\n",
    "숫자가 아닌 자료형은 `+` 연산자를 통해 합칠 수 있다.\n",
    "\n",
    "### Containment Test\n",
    "\n",
    "`in` 연산자를 통해 속해있는지 여부를 확인할 수 있다. (중요)\n",
    "\n",
    "### Identity\n",
    "\n",
    "`is` 연산자를 통해 동일한 object인지 확인할 수 있다. (중요)\n",
    "\n",
    "\n",
    "(나중에 Class를 배우고 다시 학습)\n",
    "\n",
    "### Indexing/Slicing\n",
    "`[]`를 통한 값 접근 및 `[:]`을 통한 슬라이싱 \n",
    "\n",
    "(다음 챕터를 배우면서 추가 학습)"
   ]
  },
  {
   "cell_type": "code",
   "execution_count": 172,
   "metadata": {},
   "outputs": [
    {
     "name": "stdout",
     "output_type": "stream",
     "text": [
      "ssafybest\n"
     ]
    }
   ],
   "source": [
    "# 문자열끼리 더해봅시다.(합쳐봅시다.)\n",
    "print('ssafy'+ 'best')"
   ]
  },
  {
   "cell_type": "code",
   "execution_count": 174,
   "metadata": {},
   "outputs": [
    {
     "name": "stdout",
     "output_type": "stream",
     "text": [
      "[1, 2, 3, 4, 5, 6]\n",
      "(1, 2, 3, 4, 5, 6)\n"
     ]
    }
   ],
   "source": [
    "# list끼리 더해봅시다.(합쳐봅시다.)\n",
    "print([1,2,3] + [4,5,6])\n",
    "print((1,2,3)+ (4,5,6))"
   ]
  },
  {
   "cell_type": "code",
   "execution_count": 175,
   "metadata": {},
   "outputs": [
    {
     "name": "stdout",
     "output_type": "stream",
     "text": [
      "True\n",
      "False\n"
     ]
    }
   ],
   "source": [
    "# 문자열안에 특정한 문자가 있는지 확인해봅시다.\n",
    "print('A' in 'SSAFY')\n",
    "print('B' in 'SSAFY')"
   ]
  },
  {
   "cell_type": "code",
   "execution_count": 176,
   "metadata": {},
   "outputs": [
    {
     "name": "stdout",
     "output_type": "stream",
     "text": [
      "True\n"
     ]
    }
   ],
   "source": [
    "# list안에 특정한 원소가 있는지 확인해봅시다.\n",
    "print(3 in [1,2,3,4,5])"
   ]
  },
  {
   "cell_type": "code",
   "execution_count": 177,
   "metadata": {},
   "outputs": [
    {
     "name": "stdout",
     "output_type": "stream",
     "text": [
      "True\n",
      "False\n"
     ]
    }
   ],
   "source": [
    "# range안에 특정한 원소가 있는지 확인해봅시다.\n",
    "print(30 in range(1,45))\n",
    "print(45 in range(1,45))"
   ]
  },
  {
   "cell_type": "code",
   "execution_count": 194,
   "metadata": {},
   "outputs": [
    {
     "name": "stdout",
     "output_type": "stream",
     "text": [
      "1891853312 1891857488\n",
      "111469056\n",
      "111471760\n",
      "1891853312\n",
      "1891853312\n",
      "False\n",
      "False\n",
      "True\n"
     ]
    }
   ],
   "source": [
    "# is는 맛만 봅시다.\n",
    "# 파이썬에서 -5부터 256까지의 id는 동일합니다.\n",
    "print(id(-5) , id(256)) #어디서 써도 동일한 id를 가짐 id가 변하지 않음 (자주쓰이는 숫자이기 때문)\n",
    "\n",
    "print(id(257))          #256 보다 큰수는 입력할때 새로운 id를 부여함\n",
    "print(id(257))\n",
    "print(id(-5))\n",
    "print(id(-5))\n",
    "print(id(-10) is id(-10))\n",
    "print(id(-5) is id(-5))\n",
    "print(257 is 257)"
   ]
  },
  {
   "cell_type": "code",
   "execution_count": 192,
   "metadata": {},
   "outputs": [
    {
     "data": {
      "text/plain": [
       "False"
      ]
     },
     "execution_count": 192,
     "metadata": {},
     "output_type": "execute_result"
    }
   ],
   "source": [
    "# id는 다르죠!\n",
    "a = 257\n",
    "b = 257\n",
    "a is b"
   ]
  },
  {
   "cell_type": "code",
   "execution_count": null,
   "metadata": {},
   "outputs": [],
   "source": [
    "# 문자열을 인덱싱을 통해 값에 접근해봅시다."
   ]
  },
  {
   "cell_type": "markdown",
   "metadata": {},
   "source": [
    "## 연산자 우선순위\n",
    "\n",
    "0. `()`을 통한 grouping\n",
    "\n",
    "1. Slicing\n",
    "\n",
    "2. Indexing\n",
    "\n",
    "3. 제곱연산자\n",
    "    \\*\\*\n",
    "\n",
    "4. 단항연산자 \n",
    "    +, - (음수/양수 부호)\n",
    "\n",
    "5. 산술연산자\n",
    "    \\*, /, %\n",
    "    \n",
    "6. 산술연산자\n",
    "    +, -\n",
    " \n",
    "7. 비교연산자, `in`, `is`\n",
    "\n",
    "8. `not`\n",
    "\n",
    "9. `and` \n",
    "\n",
    "10. `or`"
   ]
  },
  {
   "cell_type": "code",
   "execution_count": 197,
   "metadata": {},
   "outputs": [
    {
     "name": "stdout",
     "output_type": "stream",
     "text": [
      "81\n",
      "-81\n"
     ]
    }
   ],
   "source": [
    "# 우선순위를 확인해봅시다.\n",
    "print((-3) ** 4)\n",
    "print(-3 ** 4)"
   ]
  },
  {
   "cell_type": "markdown",
   "metadata": {},
   "source": [
    "# 기초 형변환(Type conversion, Typecasting)\n",
    "\n",
    "\n",
    "파이썬에서 데이터타입은 서로 변환할 수 있다.\n",
    "\n",
    "## 암시적 형변환(Implicit Type Conversion)\n",
    "사용자가 의도하지 않았지만, 파이썬 내부적으로 자동으로 형변환 하는 경우이다.\n",
    "아래의 상황에서만 가능하다.\n",
    "* bool\n",
    "* Numbers (int, float, complex)"
   ]
  },
  {
   "cell_type": "code",
   "execution_count": 200,
   "metadata": {},
   "outputs": [
    {
     "name": "stdout",
     "output_type": "stream",
     "text": [
      "4\n",
      "3\n",
      "2.1\n"
     ]
    }
   ],
   "source": [
    "# boolean과 integer는 더할 수 있을까요?\n",
    "print(True + 3)             #암시적 형변환\n",
    "print(False + 3)\n",
    "print(True + 1.1)"
   ]
  },
  {
   "cell_type": "code",
   "execution_count": 202,
   "metadata": {},
   "outputs": [
    {
     "name": "stdout",
     "output_type": "stream",
     "text": [
      "8.0\n",
      "(6+5j)\n",
      "(8+5j)\n"
     ]
    }
   ],
   "source": [
    "# int, float, complex를 각각 변수에 대입해봅시다.\n",
    "int_num = 3\n",
    "float_num = 5.0\n",
    "complex_num = 3 + 5j\n",
    "\n",
    "print(int_num + float_num)\n",
    "print(int_num + complex_num)\n",
    "print(float_num + complex_num)"
   ]
  },
  {
   "cell_type": "code",
   "execution_count": 204,
   "metadata": {},
   "outputs": [
    {
     "data": {
      "text/plain": [
       "float"
      ]
     },
     "execution_count": 204,
     "metadata": {},
     "output_type": "execute_result"
    }
   ],
   "source": [
    "# int와 float를 더해봅시다. 그 결과의 type은 무엇일까요?\n",
    "type(3 + 3.5)"
   ]
  },
  {
   "cell_type": "code",
   "execution_count": 206,
   "metadata": {},
   "outputs": [
    {
     "data": {
      "text/plain": [
       "complex"
      ]
     },
     "execution_count": 206,
     "metadata": {},
     "output_type": "execute_result"
    }
   ],
   "source": [
    "# int와 complex를 더해봅시다. 그 결과의 type은 무엇일까요?\n",
    "type(int_num + complex_num)"
   ]
  },
  {
   "cell_type": "markdown",
   "metadata": {},
   "source": [
    "## 명시적 형변환(Explicit Type Conversion)\n",
    "\n",
    "위의 상황을 제외하고는 모두 명시적으로 형 변환을 해주어야한다.\n",
    "\n",
    "* string -> intger  : 형식에 맞는 숫자만 가능\n",
    "* integer -> string : 모두 가능\n",
    "\n",
    "암시적 형변환이 되는 모든 경우도 명시적으로 형변환이 가능하다.\n",
    "\n",
    "* `int()` : string, float를 int로 변환\n",
    "* `float()` : string, int를 float로 변환\n",
    "* `str()` : int, float, list, tuple, dictionary를 문자열로 변환\n",
    "\n",
    "`list(), tuple()` 등은 다음 챕터에서 배울 예정이다."
   ]
  },
  {
   "cell_type": "code",
   "execution_count": 207,
   "metadata": {},
   "outputs": [
    {
     "data": {
      "text/plain": [
       "'1등'"
      ]
     },
     "execution_count": 207,
     "metadata": {},
     "output_type": "execute_result"
    }
   ],
   "source": [
    "# integer와 string 사이의 관계는 명시적으로 형변환을 해줘야만 합니다.\n",
    "str(1) + '등'"
   ]
  },
  {
   "cell_type": "code",
   "execution_count": 208,
   "metadata": {},
   "outputs": [
    {
     "data": {
      "text/plain": [
       "int"
      ]
     },
     "execution_count": 208,
     "metadata": {},
     "output_type": "execute_result"
    }
   ],
   "source": [
    "# string 3을 integer로 변환해봅시다.\n",
    "type(int('3'))"
   ]
  },
  {
   "cell_type": "code",
   "execution_count": 210,
   "metadata": {},
   "outputs": [
    {
     "data": {
      "text/plain": [
       "float"
      ]
     },
     "execution_count": 210,
     "metadata": {},
     "output_type": "execute_result"
    }
   ],
   "source": [
    "# string 3.5를 float로 변환해봅시다.\n",
    "type(float('3.5'))"
   ]
  },
  {
   "cell_type": "code",
   "execution_count": 211,
   "metadata": {},
   "outputs": [
    {
     "ename": "ValueError",
     "evalue": "invalid literal for int() with base 10: 'qwe'",
     "output_type": "error",
     "traceback": [
      "\u001b[1;31m---------------------------------------------------------------------------\u001b[0m",
      "\u001b[1;31mValueError\u001b[0m                                Traceback (most recent call last)",
      "\u001b[1;32m<ipython-input-211-09ff69fe5252>\u001b[0m in \u001b[0;36m<module>\u001b[1;34m\u001b[0m\n\u001b[0;32m      1\u001b[0m \u001b[1;31m# string은 글씨가 숫자일때만 형변환이 가능합니다\u001b[0m\u001b[1;33m\u001b[0m\u001b[1;33m\u001b[0m\u001b[1;33m\u001b[0m\u001b[0m\n\u001b[1;32m----> 2\u001b[1;33m \u001b[0mtype\u001b[0m\u001b[1;33m(\u001b[0m\u001b[0mint\u001b[0m\u001b[1;33m(\u001b[0m\u001b[1;34m'qwe'\u001b[0m\u001b[1;33m)\u001b[0m\u001b[1;33m)\u001b[0m\u001b[1;33m\u001b[0m\u001b[1;33m\u001b[0m\u001b[0m\n\u001b[0m",
      "\u001b[1;31mValueError\u001b[0m: invalid literal for int() with base 10: 'qwe'"
     ]
    }
   ],
   "source": [
    "# string은 글씨가 숫자일때만 형변환이 가능합니다\n",
    "type(int('qwe'))"
   ]
  },
  {
   "cell_type": "code",
   "execution_count": 216,
   "metadata": {},
   "outputs": [
    {
     "data": {
      "text/plain": [
       "3"
      ]
     },
     "execution_count": 216,
     "metadata": {},
     "output_type": "execute_result"
    }
   ],
   "source": [
    "# string 3.5를 int로 변환할 수는 없습니다.\n",
    "#int('3.5')\n",
    "int(float('3.5'))"
   ]
  },
  {
   "cell_type": "code",
   "execution_count": 214,
   "metadata": {},
   "outputs": [
    {
     "data": {
      "text/plain": [
       "3"
      ]
     },
     "execution_count": 214,
     "metadata": {},
     "output_type": "execute_result"
    }
   ],
   "source": [
    "# float 3.5는 int로 변환이 가능합니다.\n",
    "int(3.5)"
   ]
  },
  {
   "cell_type": "markdown",
   "metadata": {},
   "source": [
    "# 시퀀스(sequence) 자료형\n",
    "\n",
    "`시퀀스`는 데이터의 순서대로 나열된 형식을 나타낸다. \n",
    "\n",
    "**주의! 순서대로 나열된 것이 정렬되었다라는 뜻은 아니다.**\n",
    "\n",
    "파이썬에서 기본적인 시퀀스 타입은 다음과 같다.\n",
    "\n",
    "1. 리스트(list)\n",
    "\n",
    "2. 튜플(tuple)\n",
    "\n",
    "3. 레인지(range)\n",
    "\n",
    "4. 문자열(string)\n",
    "\n",
    "5. 바이너리(binary) : 따로 다루지는 않습니다.\n"
   ]
  },
  {
   "cell_type": "markdown",
   "metadata": {},
   "source": [
    "\n",
    "## `list`\n",
    "\n",
    "<center><img src=\"./images/01/list.png\", alt=\"list figure\"/></center>"
   ]
  },
  {
   "cell_type": "markdown",
   "metadata": {},
   "source": [
    "**활용법**\n",
    "```python\n",
    "[value1, value2, value3]\n",
    "```\n",
    "\n",
    "리스트는 대괄호`[]` 를 통해 만들 수 있습니다.\n",
    "\n",
    "값에 대한 접근은 `list[i]`를 통해 합니다."
   ]
  },
  {
   "cell_type": "code",
   "execution_count": 217,
   "metadata": {},
   "outputs": [
    {
     "name": "stdout",
     "output_type": "stream",
     "text": [
      "[]\n",
      "[]\n"
     ]
    }
   ],
   "source": [
    "# 빈 리스트를 만들어봅시다.\n",
    "l = []\n",
    "ll = list()\n",
    "print(l)\n",
    "print(ll)"
   ]
  },
  {
   "cell_type": "code",
   "execution_count": 218,
   "metadata": {},
   "outputs": [
    {
     "name": "stdout",
     "output_type": "stream",
     "text": [
      "['강남', '강북', '강동', '강서']\n",
      "<class 'list'>\n"
     ]
    }
   ],
   "source": [
    "# 원소를 포함한 리스트를 만들어봅시다.\n",
    "location = [\"강남\", \"강북\", \"강동\", \"강서\"]\n",
    "print(location)\n",
    "print(type(location))"
   ]
  },
  {
   "cell_type": "code",
   "execution_count": 219,
   "metadata": {},
   "outputs": [
    {
     "data": {
      "text/plain": [
       "'강남'"
      ]
     },
     "execution_count": 219,
     "metadata": {},
     "output_type": "execute_result"
    }
   ],
   "source": [
    "# 첫번째 값에 접근해봅시다.\n",
    "location[0]"
   ]
  },
  {
   "cell_type": "markdown",
   "metadata": {},
   "source": [
    "## `tuple`\n",
    "\n",
    "**활용법**\n",
    "```python\n",
    "(value1, value2)\n",
    "```\n",
    "\n",
    "튜플은 리스트와 유사하지만, `()`로 묶어서 표현합니다.\n",
    "\n",
    "그리고 **tuple은 수정 불가능(immutable)하고, 읽을 수 밖에 없습니다.**\n",
    "\n",
    "직접 사용하는 것보다는 파이썬 내부에서 사용하고 있습니다."
   ]
  },
  {
   "cell_type": "code",
   "execution_count": 222,
   "metadata": {},
   "outputs": [
    {
     "name": "stdout",
     "output_type": "stream",
     "text": [
      "()\n",
      "<class 'tuple'>\n",
      "<class 'tuple'>\n"
     ]
    }
   ],
   "source": [
    "# tuple을 만들어봅시다.\n",
    "tp = ()\n",
    "print(tp)\n",
    "print(type(tp))\n"
   ]
  },
  {
   "cell_type": "code",
   "execution_count": 224,
   "metadata": {},
   "outputs": [
    {
     "name": "stdout",
     "output_type": "stream",
     "text": [
      "(1, 2, 3, 4, 5)\n",
      "<class 'tuple'>\n"
     ]
    }
   ],
   "source": [
    "# 아래와 같이 만들 수 있습니다.\n",
    "x = 5\n",
    "y = 3\n",
    "(x,y) = (y,x)\n",
    "tp2 = 1,2,3,4,5\n",
    "print(tp2)\n",
    "print(type(tp2))"
   ]
  },
  {
   "cell_type": "code",
   "execution_count": 226,
   "metadata": {},
   "outputs": [
    {
     "name": "stdout",
     "output_type": "stream",
     "text": [
      "1\n",
      "2\n"
     ]
    }
   ],
   "source": [
    "# 파이썬 내부에서는 다음과 같이 활용됩니다.\n",
    "# 앞선 2. 변수 및 자료형 예제에서 사용된 코드입니다.\n",
    "x,y = 1,2 \n",
    "print(x)\n",
    "print(y)\n"
   ]
  },
  {
   "cell_type": "code",
   "execution_count": 227,
   "metadata": {},
   "outputs": [],
   "source": [
    "# 실제로는 tuple로 처리됩니다.\n",
    "x,y =(1,2)\n",
    "(x,y) = 1,2"
   ]
  },
  {
   "cell_type": "code",
   "execution_count": null,
   "metadata": {},
   "outputs": [],
   "source": [
    "# 변수의 값을 swap하는 코드 역시 tuple을 활용하고 있습니다. "
   ]
  },
  {
   "cell_type": "markdown",
   "metadata": {},
   "source": [
    "##  `range()`\n",
    "\n",
    "레인지는 숫자의 시퀀스를 나타내기 위해 사용됩니다.\n",
    "\n",
    "기본형 : `range(n)` \n",
    "\n",
    "\n",
    "> 0부터 n-1까지 값을 가짐\n",
    "\n",
    "\n",
    "범위 지정 : `range(n, m)` \n",
    "\n",
    "> n부터 m-1까지 값을 가짐\n",
    "\n",
    "범위 및 스텝 지정 : `range(n, m, s)`\n",
    "\n",
    "> n부터 m-1까지 +s만큼 증가한다"
   ]
  },
  {
   "cell_type": "code",
   "execution_count": 236,
   "metadata": {},
   "outputs": [
    {
     "name": "stdout",
     "output_type": "stream",
     "text": [
      "range(1, 46)\n",
      "<class 'range'>\n",
      "1\n",
      "2\n",
      "3\n",
      "4\n",
      "5\n",
      "6\n",
      "7\n",
      "8\n",
      "9\n",
      "\n",
      "1\n",
      "2\n",
      "3\n",
      "4\n",
      "5\n",
      "6\n",
      "7\n",
      "8\n",
      "9\n",
      "True\n",
      "False\n"
     ]
    }
   ],
   "source": [
    "# range를 만들어봅시다.\n",
    "print(range(1,46))\n",
    "print(type(range(1,46)))\n",
    "\n",
    "r = range(1,10)\n",
    "l = [1,2,3,4,5,6,7,8,9]\n",
    "for x in r :\n",
    "    print (x)\n",
    "print('')\n",
    "for y in l :\n",
    "    print(y)\n",
    "\n",
    "print(list(r) == l)\n",
    "print(r == l)"
   ]
  },
  {
   "cell_type": "code",
   "execution_count": 237,
   "metadata": {},
   "outputs": [
    {
     "data": {
      "text/plain": [
       "[1, 2, 3, 4, 5, 6, 7, 8, 9]"
      ]
     },
     "execution_count": 237,
     "metadata": {},
     "output_type": "execute_result"
    }
   ],
   "source": [
    "# range에 담긴 값을 list로 바꿔서 확인해봅시다.\n",
    "list(r)"
   ]
  },
  {
   "cell_type": "code",
   "execution_count": 239,
   "metadata": {},
   "outputs": [
    {
     "data": {
      "text/plain": [
       "[4, 5, 6, 7, 8]"
      ]
     },
     "execution_count": 239,
     "metadata": {},
     "output_type": "execute_result"
    }
   ],
   "source": [
    "# 4 ~ 8까지의 숫자를 담은 range를 만들어봅시다.\n",
    "list(range(4,9))\n"
   ]
  },
  {
   "cell_type": "code",
   "execution_count": 253,
   "metadata": {},
   "outputs": [
    {
     "name": "stdout",
     "output_type": "stream",
     "text": [
      "[-9, -8, -7, -6, -5, -4, -3, -2, -1, 0]\n",
      "[0, -1, -2, -3, -4, -5, -6, -7, -8, -9]\n",
      "False\n",
      "True\n"
     ]
    }
   ],
   "source": [
    "# 0부터 -9까지 담긴 range를 만들어봅시다.\n",
    "print(list(range(-9,1)))\n",
    "print(list(range(0,-10,-1)))\n",
    "print(list(range(-9,1)) == list(range(0,-10,-1)))\n",
    "print(list(range(-9,1)) == sorted(list(range(0,-10,-1))))"
   ]
  },
  {
   "cell_type": "markdown",
   "metadata": {},
   "source": [
    "\n",
    "## 시퀀스에서 활용할 수 있는 연산자/함수 \n",
    "\n",
    "|operation|설명|\n",
    "|---------|---|\n",
    "|x in s\t|containment test|\n",
    "|x not in s|containment test|\n",
    "|s1 + s2|concatenation|\n",
    "|s * n|n번만큼 반복하여 더하기\n",
    "|s[i]|indexing|\n",
    "|s[i:j]|slicing|\n",
    "|s[i:j:k]|k간격으로 slicing|\n",
    "|len(s)|길이|\n",
    "|min(s)|최솟값|\n",
    "|max(s)|최댓값|\n",
    "|s.count(x)|x의 개수|"
   ]
  },
  {
   "cell_type": "code",
   "execution_count": 257,
   "metadata": {},
   "outputs": [
    {
     "name": "stdout",
     "output_type": "stream",
     "text": [
      "True\n",
      "True\n"
     ]
    }
   ],
   "source": [
    "# contain test를 확인해봅시다.\n",
    "l = [1,2,3,4,5]\n",
    "print(3 in l)\n",
    "tp = (1,2,3,4,5)\n",
    "print(3 in tp)\n"
   ]
  },
  {
   "cell_type": "code",
   "execution_count": 255,
   "metadata": {},
   "outputs": [
    {
     "name": "stdout",
     "output_type": "stream",
     "text": [
      "False\n",
      "True\n"
     ]
    }
   ],
   "source": [
    "# concatenation를 해봅시다.\n",
    "print(3 not in l)\n",
    "print(6 not in l)"
   ]
  },
  {
   "cell_type": "code",
   "execution_count": 266,
   "metadata": {},
   "outputs": [
    {
     "name": "stdout",
     "output_type": "stream",
     "text": [
      "[0, 0, 0, 0, 0, 0]\n"
     ]
    }
   ],
   "source": [
    "# 숫자 0이 6개 있는 list를 만들어봅시다.\n",
    "ll = [0]\n",
    "print(ll*6)\n"
   ]
  },
  {
   "cell_type": "code",
   "execution_count": null,
   "metadata": {},
   "outputs": [],
   "source": [
    "# indexing과 slicing을 하기 위해 list하나를 만들어주세요.\n",
    "l = [1,2,3,4,5,6]\n"
   ]
  },
  {
   "cell_type": "code",
   "execution_count": 274,
   "metadata": {},
   "outputs": [
    {
     "name": "stdout",
     "output_type": "stream",
     "text": [
      "[2, 3]\n",
      "['강북', '강동']\n",
      "['강서', '강동', '강북', '강남']\n"
     ]
    },
    {
     "data": {
      "text/plain": [
       "'yfass'"
      ]
     },
     "execution_count": 274,
     "metadata": {},
     "output_type": "execute_result"
    }
   ],
   "source": [
    "# 두번쨰, 세번쨰 값만 가져와봅시다.\n",
    "print(l[1:3])\n",
    "print(location[1:3])\n",
    "print(location[::-1])      #리스트를 반대로 뒤집을때!, str에서도!\n",
    "'ssafy'[::-1]\n",
    "\n"
   ]
  },
  {
   "cell_type": "code",
   "execution_count": 276,
   "metadata": {},
   "outputs": [
    {
     "name": "stdout",
     "output_type": "stream",
     "text": [
      "[0, 3, 6, 9, 12, 15, 18, 21, 24, 27, 30]\n",
      "[3, 4, 5, 6, 7, 8, 9, 10, 11, 12, 13, 14, 15, 16, 17, 18, 19, 20, 21, 22, 23, 24, 25, 26, 27, 28, 29, 30, 31, 32, 33]\n"
     ]
    }
   ],
   "source": [
    "# 0부터 30까지의 숫자를 3씩 증가시킨 상태로 만들어봅시다.\n",
    "lll = list(range(0,31,3))\n",
    "print(lll)\n",
    "llll= list(range(31))\n",
    "lllll = [x+3 for x in llll]\n",
    "print(lllll)"
   ]
  },
  {
   "cell_type": "code",
   "execution_count": 261,
   "metadata": {},
   "outputs": [
    {
     "data": {
      "text/plain": [
       "11"
      ]
     },
     "execution_count": 261,
     "metadata": {},
     "output_type": "execute_result"
    }
   ],
   "source": [
    "# 위에서 만든 list의 길이를 확인해봅시다.\n",
    "len(lll)"
   ]
  },
  {
   "cell_type": "code",
   "execution_count": 263,
   "metadata": {},
   "outputs": [
    {
     "name": "stdout",
     "output_type": "stream",
     "text": [
      "30\n",
      "0\n"
     ]
    }
   ],
   "source": [
    "# 위에서 만든 list의 최솟값, 최댓값을 확인해봅시다.\n",
    "print(max(lll))\n",
    "print(min(lll))"
   ]
  },
  {
   "cell_type": "code",
   "execution_count": 265,
   "metadata": {},
   "outputs": [
    {
     "data": {
      "text/plain": [
       "1"
      ]
     },
     "execution_count": 265,
     "metadata": {},
     "output_type": "execute_result"
    }
   ],
   "source": [
    "# list에 담긴 특정한 것의 개수를 확인할 수도 있습니다.\n",
    "lll.count(3)"
   ]
  },
  {
   "cell_type": "markdown",
   "metadata": {},
   "source": [
    "# set, dictionary\n",
    "\n",
    "* `set`과 `dictionary`는 기본적으로 순서가 없습니다."
   ]
  },
  {
   "cell_type": "markdown",
   "metadata": {},
   "source": [
    "## `set`\n",
    "\n",
    "세트는 수학에서의 집합과 동일하게 처리됩니다. \n",
    "\n",
    "세트는 중괄호`{}`를 통해 만들며, 순서가 없고 중복된 값이 없습니다.\n",
    "\n",
    "**활용법**\n",
    "```python\n",
    "{value1, value2, value3}\n",
    "```\n",
    "\n",
    "|연산자/함수|설명|\n",
    "|---|---|\n",
    "|a - b|차집합|\n",
    "|a \\| b|합집합|\n",
    "|a & b|교집합|\n",
    "|a.difference(b)|차집합|\n",
    "|a.union(b)|합집합|\n",
    "|a.intersection(b)|교집합|"
   ]
  },
  {
   "cell_type": "code",
   "execution_count": 278,
   "metadata": {},
   "outputs": [
    {
     "name": "stdout",
     "output_type": "stream",
     "text": [
      "{1, 2}\n",
      "{1, 2, 3, 6, 9}\n",
      "{3}\n",
      "{1, 2}\n",
      "{1, 2, 3, 6, 9}\n",
      "{3}\n"
     ]
    }
   ],
   "source": [
    "# set 두개를 만들어서 연산자들을 활용해봅시다.\n",
    "set_A = {1,2,3}\n",
    "set_B = {3,6,9}\n",
    "\n",
    "print(set_A - set_B)\n",
    "print(set_A | set_B)\n",
    "print(set_A & set_B)\n",
    "print(set_A.difference(set_B))\n",
    "print(set_A.union(set_B))\n",
    "print(set_A.intersection(set_B))"
   ]
  },
  {
   "cell_type": "code",
   "execution_count": 281,
   "metadata": {},
   "outputs": [
    {
     "name": "stdout",
     "output_type": "stream",
     "text": [
      "{1, 2, 3, 4, 5, 6, 7}\n"
     ]
    },
    {
     "data": {
      "text/plain": [
       "[1, 2, 3, 4, 5, 6, 7]"
      ]
     },
     "execution_count": 281,
     "metadata": {},
     "output_type": "execute_result"
    }
   ],
   "source": [
    "# set은 중복된 값이 있을 수 없습니다.\n",
    "LIST_1 = [1,2,2,2,3,3,4,5,6,6,7]\n",
    "print(set(LIST_1))\n",
    "list(set(LIST_1))\n"
   ]
  },
  {
   "cell_type": "markdown",
   "metadata": {},
   "source": [
    "* `set`을 활용하면 `list`의 중복된 값을 손쉽게 제거할 수 있습니다."
   ]
  },
  {
   "cell_type": "code",
   "execution_count": null,
   "metadata": {},
   "outputs": [],
   "source": [
    "# set으로 중복된 값을 제거해봅시다."
   ]
  },
  {
   "cell_type": "code",
   "execution_count": null,
   "metadata": {},
   "outputs": [],
   "source": [
    "# 다시 list로 바꿔서 확인해봅시다."
   ]
  },
  {
   "cell_type": "markdown",
   "metadata": {},
   "source": [
    "## `dictionary`\n",
    "\n",
    "<center><img src=\"./images/01/dictionary.png\"/></center> "
   ]
  },
  {
   "cell_type": "markdown",
   "metadata": {},
   "source": [
    "**활용법**\n",
    "```python\n",
    "{Key1:Value1, Key2:Value2, Key3:Value3, ...}\n",
    "```\n",
    "\n",
    "* 딕셔너리는 `key`와 `value`가 쌍으로 이뤄져있으며, 궁극의 자료구조입니다. \n",
    "* `{}`를 통해 만들며, `dict()`로 만들 수도 있습니다.\n",
    "* `key`는 immutable한 모든 것이 가능하다. (불변값 : string, integer, float, boolean, tuple, range)\n",
    "* `value`는 `list`, `dictionary`를 포함한 모든 것이 가능하다."
   ]
  },
  {
   "cell_type": "code",
   "execution_count": 282,
   "metadata": {},
   "outputs": [
    {
     "name": "stdout",
     "output_type": "stream",
     "text": [
      "{}\n",
      "{}\n"
     ]
    }
   ],
   "source": [
    "# 비어있는 dictionary를 두가지 방법으로 만들어봅시다.\n",
    "dict_a = {}\n",
    "\n",
    "dict_b = dict()\n",
    "\n",
    "print(dict_a)\n",
    "print(dict_b)"
   ]
  },
  {
   "cell_type": "code",
   "execution_count": 287,
   "metadata": {},
   "outputs": [
    {
     "name": "stdout",
     "output_type": "stream",
     "text": [
      "{'서울': '03', '경기': '031', '인천': '032'}\n"
     ]
    }
   ],
   "source": [
    "# 지역번호(서울-02 경기-031 인천-032)가 담긴 전화번호부를 만들어봅시다.\n",
    "phone_book = {\n",
    "    \"서울\" : '02' ,\n",
    "    \"경기\" : '031',\n",
    "    \"인천\" : '032',\n",
    "    \"서울\" : '03'\n",
    "}\n",
    "\n",
    "phone_book0 = {}\n",
    "\n",
    "phone_book0['서울'] = '02'\n",
    "phone_book0['경기'] = '031'\n",
    "phone_book0['인천'] = '032'\n",
    "phone_book0['서울'] = '03'                      # 중복된 키에 해당하는 값이 가장 최근에 입력한 값으로 바뀌는 이유\n",
    "\n",
    "print(phone_book)"
   ]
  },
  {
   "cell_type": "code",
   "execution_count": null,
   "metadata": {},
   "outputs": [],
   "source": [
    "# dictionary는 중복된 key는 존재할 수가 없습니다."
   ]
  },
  {
   "cell_type": "code",
   "execution_count": 288,
   "metadata": {},
   "outputs": [
    {
     "data": {
      "text/plain": [
       "dict_keys(['서울', '경기', '인천'])"
      ]
     },
     "execution_count": 288,
     "metadata": {},
     "output_type": "execute_result"
    }
   ],
   "source": [
    "# 딕셔너리의 메소드를 활용하여 key를 확인 해볼 수 있습니다.\n",
    "phone_book.keys()"
   ]
  },
  {
   "cell_type": "code",
   "execution_count": 293,
   "metadata": {},
   "outputs": [
    {
     "name": "stdout",
     "output_type": "stream",
     "text": [
      "<class 'dict_values'>\n",
      "dict_values(['03', '031', '032'])\n",
      "03\n"
     ]
    }
   ],
   "source": [
    "# 딕셔너리의 메소드를 활용하여 value를 확인 해볼 수 있습니다.\n",
    "print(type(phone_book.values()))\n",
    "print(phone_book.values())\n",
    "print(list(phone_book.values())[0])"
   ]
  },
  {
   "cell_type": "markdown",
   "metadata": {},
   "source": [
    "# 정리\n",
    "## 데이터 타입\n",
    "<center><img src=\"./images/01/container.png\", alt=\"container\"/></center>"
   ]
  }
 ],
 "metadata": {
  "kernelspec": {
   "display_name": "Python 3",
   "language": "python",
   "name": "python3"
  },
  "language_info": {
   "codemirror_mode": {
    "name": "ipython",
    "version": 3
   },
   "file_extension": ".py",
   "mimetype": "text/x-python",
   "name": "python",
   "nbconvert_exporter": "python",
   "pygments_lexer": "ipython3",
   "version": "3.7.3"
  }
 },
 "nbformat": 4,
 "nbformat_minor": 2
}
