{
 "cells": [
  {
   "cell_type": "markdown",
   "metadata": {},
   "source": [
    "# OOP advanced"
   ]
  },
  {
   "cell_type": "markdown",
   "metadata": {},
   "source": [
    "## 클래스 변수 / 인스턴스 변수\n",
    "\n",
    "### 클래스 변수\n",
    "* 클래스의 속성입니다.\n",
    "* 클래스 선언 블록 최상단에 위치합니다.\n",
    "* `Class.class_variable` 과 같이 접근/할당합니다.\n",
    "    ```python\n",
    "    class TestClass:\n",
    "        class_variable = '클래스변수'\n",
    "        ...\n",
    "        \n",
    "    TestClass.class_variable  # '클래스변수'\n",
    "    TestClass.class_variable = 'class variable'\n",
    "    TestClass.class_variable  # 'class variable'\n",
    "    \n",
    "    tc = TestClass()\n",
    "    tc.class_variable  # 인스턴스 => 클래스 => 전역 순서로 네임스페이스를 탐색하기 때문에, 접근하게 됩니다.\n",
    "    ```\n",
    "    \n",
    "### 인스턴스 변수\n",
    "* 인스턴스의 속성입니다.\n",
    "* 메서드 정의에서 `self.instance_variable` 로 접근/할당합니다.\n",
    "* 인스턴스가 생성된 이후 `instance.instance_variable` 로 접근/할당합니다.\n",
    "    ```python\n",
    "    class TestClass:\n",
    "        def __init__(self, arg1, arg2):\n",
    "            self.instance_var1 = arg1\n",
    "            self.instance_var2 = arg2\n",
    "        \n",
    "        def status(self):\n",
    "            return self.instance_var1, self.instance_var2   \n",
    "        \n",
    "    tc = TestClass(1, 2)\n",
    "    tc.instance_var1  # 1\n",
    "    tc.instance_var2  # 2\n",
    "    tc.status()  # (1, 2)\n",
    "    ```"
   ]
  },
  {
   "cell_type": "code",
   "execution_count": null,
   "metadata": {},
   "outputs": [],
   "source": [
    "# 확인해 봅시다."
   ]
  },
  {
   "cell_type": "code",
   "execution_count": null,
   "metadata": {},
   "outputs": [],
   "source": [
    "class TestClass:\n",
    "    class_variable = '클래스변수'\n",
    "\n",
    "\n",
    "TestClass.class_variable  # '클래스변수'\n",
    "TestClass.class_variable = 'class variable'\n",
    "TestClass.class_variable  # 'class variable'\n",
    "\n",
    "tc = TestClass()\n",
    "tc.class_variable "
   ]
  },
  {
   "cell_type": "code",
   "execution_count": null,
   "metadata": {},
   "outputs": [],
   "source": [
    "# 클래스 변수에 접근/재할당해 봅시다."
   ]
  },
  {
   "cell_type": "code",
   "execution_count": null,
   "metadata": {},
   "outputs": [],
   "source": [
    "TestClass.class_variable = 'changed'\n",
    "\n",
    "TestClass.class_variable"
   ]
  },
  {
   "cell_type": "code",
   "execution_count": null,
   "metadata": {},
   "outputs": [],
   "source": [
    "# 인스턴스를 생성하고 확인해 봅시다."
   ]
  },
  {
   "cell_type": "code",
   "execution_count": null,
   "metadata": {},
   "outputs": [],
   "source": [
    "tc = TestClass()\n",
    "tc.class_variable"
   ]
  },
  {
   "cell_type": "code",
   "execution_count": null,
   "metadata": {},
   "outputs": [],
   "source": [
    "# 인스턴스 변수를 재할당해 봅시다."
   ]
  },
  {
   "cell_type": "code",
   "execution_count": null,
   "metadata": {},
   "outputs": [],
   "source": [
    "tc.class_variable = '클래스변수'\n",
    "tc.class_variable\n",
    "\n",
    "TestClass.class_variable"
   ]
  },
  {
   "cell_type": "markdown",
   "metadata": {},
   "source": [
    "## 인스턴스 메서드 / 클래스 메서드 / 스태틱(정적) 메서드 \n",
    "\n",
    "### 인스턴스 메서드\n",
    "* 인스턴스가 사용할 메서드 입니다.\n",
    "* **정의 위에 어떠한 데코레이터도 없으면, 자동으로 인스턴스 메서드가 됩니다.**\n",
    "* **첫 번째 인자로 `self` 를 받도록 정의합니다. 이 때, 자동으로 인스턴스 객체가 `self` 가 됩니다.**\n",
    "    ```python\n",
    "    class MyClass:\n",
    "        def instance_method_name(self, arg1, arg2, ...):\n",
    "            ...\n",
    "    \n",
    "    my_instance = MyClass()\n",
    "    my_instance.instance_method_name(.., ..)  # 자동으로 첫 번째 인자로 인스턴스(my_instance)가 들어갑니다.\n",
    "    ```\n",
    "    \n",
    "### 클래스 메서드\n",
    "* 클래스가 사용할 메서드 입니다.\n",
    "* **정의 위에 `@classmethod` 데코레이터를 사용합니다.**\n",
    "* **첫 번째 인자로 `cls` 를 받도록 정의합니다. 이 때, 자동으로 클래스 객체가 `cls` 가 됩니다.**\n",
    "    ```python\n",
    "    class MyClass:\n",
    "        @classmethod\n",
    "        def class_method_name(cls, arg1, arg2, ...):\n",
    "            ...\n",
    "            \n",
    "    MyClass.class_method_name(.., ..)  # 자동으로 첫 번째 인자로 클래스(MyClass)가 들어갑니다.\n",
    "    ```\n",
    "\n",
    "### 스태틱(정적) 메서드\n",
    "* 클래스가 사용할 메서드 입니다.\n",
    "* **정의 위에 `@staticmethod` 데코레이터를 사용합니다.**\n",
    "* **인자 정의는 자유롭게 합니다. 어떠한 인자도 자동으로 넘어가지 않습니다.**\n",
    "    ```python\n",
    "    class MyClass:\n",
    "        @staticmethod\n",
    "        def static_method_name(arg1, arg2, ...):\n",
    "            ...\n",
    "    \n",
    "    MyClass.static_method_name(.., ..)  # 아무일도 자동으로 일어나지 않습니다.\n",
    "    ```"
   ]
  },
  {
   "cell_type": "code",
   "execution_count": null,
   "metadata": {},
   "outputs": [],
   "source": [
    "class MyClass:\n",
    "    \n",
    "    def instance_method(self):\n",
    "        return self\n",
    "    \n",
    "    @classmethod\n",
    "    def class_method(cls):\n",
    "        return cls\n",
    "    \n",
    "    @staticmethod\n",
    "    def static_method():\n",
    "        return '저는 스태틱 메서드입니다.'\n",
    "    \n",
    "mc = MyClass()\n",
    "print(mc.instance_method())\n",
    "\n",
    "print(MyClass.class_method())\n",
    "MyClass.static_method()"
   ]
  },
  {
   "cell_type": "code",
   "execution_count": null,
   "metadata": {},
   "outputs": [],
   "source": [
    "# 인스턴스 입장에서 확인해 봅시다.\n",
    "mc.class_method()\n"
   ]
  },
  {
   "cell_type": "code",
   "execution_count": null,
   "metadata": {},
   "outputs": [],
   "source": [
    "# 인스턴스는 인스턴스 메서드에 접근 가능합니다.\n",
    "mc.class_method() == MyClass"
   ]
  },
  {
   "cell_type": "code",
   "execution_count": null,
   "metadata": {},
   "outputs": [],
   "source": [
    "# 인스턴스는 클래스 메서드에 접근 가능합니다.\n"
   ]
  },
  {
   "cell_type": "code",
   "execution_count": null,
   "metadata": {},
   "outputs": [],
   "source": [
    "# 인스턴스는 스태틱 메서드에 접근 가능합니다.\n",
    "mc.static_method()"
   ]
  },
  {
   "cell_type": "markdown",
   "metadata": {},
   "source": [
    "#### 정리\n",
    "- 인스턴스는, 3가지 메서드 모두에 접근할 수 있습니다.\n",
    "- 하지만 인스턴스에서 클래스메서드와 스태틱메서드는 호출하지 않아야 합니다. (가능하다 != 사용한다) \n",
    "- 인스턴스가 할 행동은 모두 인스턴스 메서드로 한정 지어서 설계합니다."
   ]
  },
  {
   "cell_type": "markdown",
   "metadata": {},
   "source": [
    "---"
   ]
  },
  {
   "cell_type": "code",
   "execution_count": null,
   "metadata": {},
   "outputs": [],
   "source": [
    "# 클래스 입장에서 확인해 봅시다."
   ]
  },
  {
   "cell_type": "code",
   "execution_count": null,
   "metadata": {},
   "outputs": [],
   "source": [
    "import turtle\n",
    "\n",
    "turtle.forward(100)\n",
    "turtle.right(90)\n",
    "turtle.forward(100)\n",
    "turtle.right(90)\n",
    "turtle.forward(100)\n",
    "turtle.right(90)\n",
    "turtle.forward(100)\n",
    "turtle.right(90)\n",
    "\n"
   ]
  },
  {
   "cell_type": "code",
   "execution_count": null,
   "metadata": {},
   "outputs": [],
   "source": []
  },
  {
   "cell_type": "code",
   "execution_count": null,
   "metadata": {},
   "outputs": [],
   "source": []
  },
  {
   "cell_type": "markdown",
   "metadata": {},
   "source": [
    "#### 정리\n",
    "- 클래스는, 3가지 메서드 모두에 접근할 수 있습니다.\n",
    "- 하지만 클래스에서 인스턴스메서드는 호출하지 않습니다. (가능하다 != 사용한다)\n",
    "- 클래스가 할 행동은 다음 원칙에 따라 설계합니다.\n",
    "    - 클래스 자체(`cls`)와 그 속성에 접근할 필요가 있다면 클래스메서드로 정의합니다.\n",
    "    - 클래스와 클래스 속성에 접근할 필요가 없다면 스태틱메서드로 정의합니다."
   ]
  },
  {
   "cell_type": "markdown",
   "metadata": {},
   "source": [
    "---"
   ]
  },
  {
   "cell_type": "code",
   "execution_count": null,
   "metadata": {
    "scrolled": true
   },
   "outputs": [],
   "source": [
    "# Person 클래스가 인사할 수 있는지 확인해보겠습니다."
   ]
  },
  {
   "cell_type": "code",
   "execution_count": null,
   "metadata": {
    "scrolled": true
   },
   "outputs": [],
   "source": [
    "class Person:\n",
    "    population = 0\n",
    "\n",
    "    def __init__(self,name):\n",
    "        self.name = name\n",
    "        Person.population += 1\n",
    "        \n",
    "    def __del__(self):\n",
    "        print(f'{self.name}이 타계하였습니다.')\n",
    "        Person.population -= 1\n",
    "        \n",
    "    \n",
    "    \n",
    "    def greeting(self):\n",
    "        print(f'안녕하세요 저는 {self.name}입니다.')\n",
    "    \n",
    "    @classmethod\n",
    "    def show_population(cls):\n",
    "        print(f'현재 인구는 {cls.population}입니다.')\n",
    "        \n",
    "        \n",
    "john = Person('john')\n",
    "ashley = Person('ashley')\n",
    "abe = Person('abe')\n",
    "\n",
    "john.greeting()\n",
    "ashley.greeting()\n",
    "abe.greeting()\n",
    "\n",
    "Person.show_population()\n",
    "\n",
    "del abe\n",
    "\n",
    "Person.show_population()"
   ]
  },
  {
   "cell_type": "markdown",
   "metadata": {},
   "source": [
    "### 실습 : Puppy class\n",
    "> 1. 클래스 변수 num_of_dogs 통해 개가 생성될 때마다 증가시키도록 하겠습니다. \n",
    "> 2. 개들은 각자의 이름과 나이를 가지고 있습니다. \n",
    "> 3. 그리고 bark() 메서드를 통해 짖을 수 있습니다. "
   ]
  },
  {
   "cell_type": "code",
   "execution_count": null,
   "metadata": {},
   "outputs": [],
   "source": [
    "class Puppy:\n",
    "    num_of_dogs = 0\n",
    "    \n",
    "    def __init__(self,name,age):\n",
    "        self.name = name\n",
    "        self.age = age\n",
    "        Puppy.num_of_dogs += 1\n",
    "    \n",
    "    def __del__(self):\n",
    "        print(f'puppy {self.name} passed away')\n",
    "        Puppy.num_of_dogs -= 1\n",
    "    \n",
    "    def bark(self):\n",
    "        print('왈왈왈돠러이ㅏ랴ㅐㅈ댜ㅐ러ㅓㅁㅇ멍ㅇ멍!~!')\n",
    "        \n",
    "    @classmethod\n",
    "    def show_num_dog(cls):\n",
    "        print(f'number of puppies is {cls.num_of_dogs}')\n",
    "\n",
    "pup1 = Puppy('1',5)\n",
    "pup2 = Puppy('2',6)\n",
    "pup3 = Puppy('3',7)\n",
    "        \n",
    "print(pup1.name)\n",
    "print(pup1.age)\n",
    "pup1.bark()\n",
    "Puppy.show_num_dog()\n",
    "\n",
    "del pup2\n",
    "\n",
    "Puppy.show_num_dog()"
   ]
  },
  {
   "cell_type": "code",
   "execution_count": null,
   "metadata": {},
   "outputs": [],
   "source": [
    "# 각각 이름과 나이가 다른 인스턴스를 3개 만들어봅시다."
   ]
  },
  {
   "cell_type": "code",
   "execution_count": null,
   "metadata": {},
   "outputs": [],
   "source": []
  },
  {
   "cell_type": "markdown",
   "metadata": {},
   "source": [
    "* 클래스메서드는 다음과 같이 정의됩니다.\n",
    "\n",
    "```python\n",
    "\n",
    "@classmethod\n",
    "def methodname(cls):\n",
    "    codeblock\n",
    "```"
   ]
  },
  {
   "cell_type": "code",
   "execution_count": null,
   "metadata": {},
   "outputs": [],
   "source": [
    "# Doggy 클래스의 속성에 접근하는 클래스메서드를 생성해 보겠습니다."
   ]
  },
  {
   "cell_type": "code",
   "execution_count": null,
   "metadata": {},
   "outputs": [],
   "source": [
    "class Puppy:\n",
    "    num_of_dogs = 0\n",
    "    \n",
    "    def __init__(self,name,age):\n",
    "        self.name = name\n",
    "        self.age = age\n",
    "        Puppy.num_of_dogs += 1\n",
    "    \n",
    "    def __del__(self):\n",
    "        print(f'puppy {self.name} passed away')\n",
    "        Puppy.num_of_dogs -= 1\n",
    "    \n",
    "    def bark(self):\n",
    "        print('왈왈왈돠러이ㅏ랴ㅐㅈ댜ㅐ러ㅓㅁㅇ멍ㅇ멍!~!')\n",
    "        \n",
    "    @classmethod\n",
    "    def show_num_dog(cls):\n",
    "        print(f'number of puppies is {cls.num_of_dogs}')\n",
    "\n",
    "pup1 = Puppy('1',5)\n",
    "pup2 = Puppy('2',6)\n",
    "pup3 = Puppy('3',7)\n",
    "        \n",
    "print(pup1.name)\n",
    "print(pup1.age)\n",
    "pup1.bark()\n",
    "Puppy.show_num_dog()\n",
    "\n",
    "del pup2\n",
    "\n",
    "Puppy.show_num_dog()"
   ]
  },
  {
   "cell_type": "code",
   "execution_count": null,
   "metadata": {},
   "outputs": [],
   "source": [
    "# Dog 3 마리를 만들어보고,"
   ]
  },
  {
   "cell_type": "code",
   "execution_count": null,
   "metadata": {},
   "outputs": [],
   "source": []
  },
  {
   "cell_type": "code",
   "execution_count": null,
   "metadata": {},
   "outputs": [],
   "source": [
    "# 함수를 호출해봅시다."
   ]
  },
  {
   "cell_type": "code",
   "execution_count": null,
   "metadata": {},
   "outputs": [],
   "source": []
  },
  {
   "cell_type": "code",
   "execution_count": null,
   "metadata": {},
   "outputs": [],
   "source": []
  },
  {
   "cell_type": "markdown",
   "metadata": {},
   "source": [
    "* 스태틱메서드는 다음과 같이 정의됩니다.\n",
    "\n",
    "```python\n",
    "\n",
    "@staticmethod\n",
    "def methodname():\n",
    "    codeblock\n",
    "```"
   ]
  },
  {
   "cell_type": "code",
   "execution_count": null,
   "metadata": {},
   "outputs": [],
   "source": [
    "# Dog 에 어떠한 속성에도 접근하지 않는 스태틱메서드를 만들어보겠습니다."
   ]
  },
  {
   "cell_type": "code",
   "execution_count": null,
   "metadata": {},
   "outputs": [],
   "source": [
    "class Puppy:\n",
    "    num_of_dogs = 0\n",
    "    \n",
    "    def __init__(self,name,age):\n",
    "        self.name = name\n",
    "        self.age = age\n",
    "        Puppy.num_of_dogs += 1\n",
    "    \n",
    "    def __del__(self):\n",
    "        print(f'puppy {self.name} passed away')\n",
    "        Puppy.num_of_dogs -= 1\n",
    "    \n",
    "    def bark(self):\n",
    "        print('왈왈왈돠러이ㅏ랴ㅐㅈ댜ㅐ러ㅓㅁㅇ멍ㅇ멍!~!')\n",
    "        \n",
    "    @classmethod\n",
    "    def show_num_dog(cls):\n",
    "        print(f'number of puppies is {cls.num_of_dogs}')\n",
    "    \n",
    "    @staticmethod\n",
    "    def info():\n",
    "        print('Puppy 클래스는 강아지를 만들어 주는 클래스로, Puppy()인자로는 name과 age를 받습니다,.')"
   ]
  },
  {
   "cell_type": "code",
   "execution_count": null,
   "metadata": {},
   "outputs": [],
   "source": [
    "# Dog 3 마리를 만들어보고,"
   ]
  },
  {
   "cell_type": "code",
   "execution_count": null,
   "metadata": {},
   "outputs": [],
   "source": [
    "p1 = Puppy('초코',2)\n",
    "p2 = Puppy('꼬미',8)\n",
    "p3 = Puppy('농농이',13)\n",
    "\n",
    "Puppy.info()\n"
   ]
  },
  {
   "cell_type": "code",
   "execution_count": null,
   "metadata": {
    "scrolled": true
   },
   "outputs": [],
   "source": [
    "# 함수를 호출해봅시다."
   ]
  },
  {
   "cell_type": "code",
   "execution_count": null,
   "metadata": {
    "scrolled": true
   },
   "outputs": [],
   "source": []
  },
  {
   "cell_type": "markdown",
   "metadata": {},
   "source": [
    "## 실습문제 - 스태틱(정적) 메소드\n",
    "\n",
    "> 계산기 class인 `Calculator`를 만들어봅시다.\n",
    "\n",
    "* 다음과 같이 정적 메소드를 구성한다. \n",
    "* 모든 정적 메서드는, 두 수를 받아서 각각의 연산을 한 결과를 리턴한다.\n",
    "* `a` 연산자 `b` 의 순서로 연산한다. (`a - b`, `a / b`)\n",
    "    1. `add(a, b)` : 덧셈\n",
    "    2. `sub(a, b)` : 뺄셈 \n",
    "    3. `mul(a, b)` : 곱셈\n",
    "    4. `div(a, b)` : 나눗셈"
   ]
  },
  {
   "cell_type": "code",
   "execution_count": null,
   "metadata": {},
   "outputs": [],
   "source": [
    "# 아래에 코드를 작성해주세요."
   ]
  },
  {
   "cell_type": "code",
   "execution_count": null,
   "metadata": {},
   "outputs": [],
   "source": [
    "class Calculator:\n",
    "    @staticmethod\n",
    "    def add(a,b):\n",
    "        return a + b\n",
    "    \n",
    "    @staticmethod\n",
    "    def sub(a,b):\n",
    "        return a - b\n",
    "    \n",
    "    @staticmethod\n",
    "    def mul(a,b):\n",
    "        return a * b\n",
    "    \n",
    "    @staticmethod\n",
    "    def div(a,b):\n",
    "        if b:\n",
    "            return a / b\n",
    "        else:\n",
    "            print('0으로는 나눌수 없수')\n",
    "    pass"
   ]
  },
  {
   "cell_type": "code",
   "execution_count": null,
   "metadata": {},
   "outputs": [],
   "source": [
    "# 정적메소드를 호출해보세요."
   ]
  },
  {
   "cell_type": "code",
   "execution_count": null,
   "metadata": {},
   "outputs": [],
   "source": []
  },
  {
   "cell_type": "markdown",
   "metadata": {},
   "source": [
    "## 연산자 오버로딩(중복 정의, 덮어 쓰기)\n",
    "\n",
    "* 파이썬에 기본적으로 정의된 연산자를 직접적으로 정의하여 활용할 수 있습니다. \n",
    "\n",
    "* 몇가지만 소개하고 활용해봅시다.\n",
    "\n",
    "```\n",
    "+  __add__   \n",
    "-  __sub__\n",
    "*  __mul__\n",
    "<  __lt__\n",
    "<= __le__\n",
    "== __eq__\n",
    "!= __ne__\n",
    ">= __ge__\n",
    ">  __gt__\n",
    "```"
   ]
  },
  {
   "cell_type": "code",
   "execution_count": null,
   "metadata": {},
   "outputs": [],
   "source": [
    "# 사람과 사람을 같은지 비교하면, 이는 나이가 같은지 비교한 결과를 반환하도록 만들어봅시다."
   ]
  },
  {
   "cell_type": "code",
   "execution_count": null,
   "metadata": {},
   "outputs": [],
   "source": [
    "class Person:\n",
    "    population = 0\n",
    "    \n",
    "    def __init__(self, name, age):\n",
    "        self.name = name\n",
    "        self.age = age\n",
    "        Person.population += 1\n",
    "        \n",
    "    def greeting(self):\n",
    "        print(f'{self.name} 입니다. 반갑습니다!')\n",
    "        \n",
    "    def __repr__(self):\n",
    "         return f'< \"name:\" {self.name}, \"age\": {self.age} >'\n",
    "    \n",
    "    def __gt__(self, other):\n",
    "        return self.age > other.age\n",
    "    \n",
    "    def __eq__(self, other):\n",
    "        return self.age == other.age\n",
    "    \n",
    "    def __ge__(self, other):\n",
    "        return self.age >= other.age"
   ]
  },
  {
   "cell_type": "code",
   "execution_count": null,
   "metadata": {},
   "outputs": [],
   "source": [
    "# 연산자를 호출해 봅시다.\n",
    "john = Person('john', 34)\n",
    "kim = Person('kim', 28)\n",
    "Jo = Person('Jo', 28)\n",
    "\n",
    "john.greeting()\n",
    "kim.greeting()\n",
    "\n",
    "kim.__ne__(john)              # 하나가 정해지면 반대가 정해짐\n",
    "\n",
    "people =[john,kim,Jo]\n",
    "print(sorted(people))          # 순서가 정해지면 소팅도가능\n"
   ]
  },
  {
   "cell_type": "code",
   "execution_count": null,
   "metadata": {},
   "outputs": [],
   "source": []
  },
  {
   "cell_type": "markdown",
   "metadata": {},
   "source": [
    "# 상속 \n",
    "\n",
    "## 기초\n",
    "\n",
    "* 클래스에서 가장 큰 특징은 '상속' 기능을 가지고 있다는 것이다. \n",
    "\n",
    "* 부모 클래스의 모든 속성이 자식 클래스에게 상속 되므로 코드재사용성이 높아집니다.\n",
    "\n",
    "```python\n",
    "class DerivedClassName(BaseClassName):\n",
    "    code block\n",
    "    \n",
    "class Subclass(SuperClass):\n",
    "\n",
    "\n",
    "class ChildClass(ParentClass):\n",
    "```"
   ]
  },
  {
   "cell_type": "code",
   "execution_count": null,
   "metadata": {},
   "outputs": [],
   "source": [
    "# 인사만 할 수 있는 간단한 사람 클래스를 만들어봅시다."
   ]
  },
  {
   "cell_type": "code",
   "execution_count": null,
   "metadata": {},
   "outputs": [],
   "source": [
    "class Person(Animal):\n",
    "    population = 0\n",
    "    \n",
    "    def __init__(self, name, age):\n",
    "        super().__init__()\n",
    "        self.name = name\n",
    "        self.age = age\n",
    "        self.hp = 100\n",
    "        Person.population += 1\n",
    "        \n",
    "    def greeting(self):\n",
    "        print(f'{self.name} 입니다. 반갑습니다!')\n",
    "        \n",
    "    def __repr__(self):\n",
    "         return f'< \"name:\" {self.name}, \"age\": {self.age} >'\n",
    "    \n",
    "    def __gt__(self, other):\n",
    "        return self.age > other.age\n",
    "    \n",
    "    def __eq__(self, other):\n",
    "        return self.age == other.age\n",
    "    \n",
    "    def __ge__(self, other):\n",
    "        return self.age >= other.age"
   ]
  },
  {
   "cell_type": "code",
   "execution_count": null,
   "metadata": {},
   "outputs": [],
   "source": [
    "# 사람 클래스를 상속받아 학생 클래스를 만들어봅시다."
   ]
  },
  {
   "cell_type": "code",
   "execution_count": null,
   "metadata": {},
   "outputs": [],
   "source": [
    "class Student(Person):\n",
    "    def __init__(self,name,age,student_id):\n",
    "        super().__init__(name,age)\n",
    "        self.student_id = student_id\n",
    "    \n",
    "    def study(self):\n",
    "        print(f'{self.name} is now studying!')\n",
    "    \n",
    "    def greeting(self):\n",
    "        print(f'Hello, I am {self.name}. my student id is {self.student_id}.')\n",
    "        \n",
    "    def __gt__(self, other):\n",
    "        return self.student_id < other.student_id\n",
    "    \n",
    "    def __eq__(self, other):\n",
    "        return self.student_id == other.student_id\n",
    "    \n",
    "    def __ge__(self, other):\n",
    "        return self.student_id <= other.student_id"
   ]
  },
  {
   "cell_type": "code",
   "execution_count": null,
   "metadata": {},
   "outputs": [],
   "source": [
    "# 학생을 만들어봅시다."
   ]
  },
  {
   "cell_type": "code",
   "execution_count": null,
   "metadata": {},
   "outputs": [],
   "source": [
    "st1 = Student('kim',28,2012312377)\n",
    "st2 = Student('Jo',28,20132312377)"
   ]
  },
  {
   "cell_type": "code",
   "execution_count": null,
   "metadata": {},
   "outputs": [],
   "source": [
    "# 부모 클래스에 정의를 했음에도 메소드를 호출 할 수 있습니다."
   ]
  },
  {
   "cell_type": "code",
   "execution_count": null,
   "metadata": {},
   "outputs": [],
   "source": [
    "st1.greeting()\n",
    "st1 > st2"
   ]
  },
  {
   "cell_type": "markdown",
   "metadata": {},
   "source": [
    "* 이처럼 상속은 공통된 속성이나 메소드를 부모 클래스에 정의하고, 이를 상속받아 다양한 형태의 사람들을 만들 수 있습니다."
   ]
  },
  {
   "cell_type": "code",
   "execution_count": null,
   "metadata": {},
   "outputs": [],
   "source": [
    "# 진짜 상속관계인지 확인해봅시다."
   ]
  },
  {
   "cell_type": "code",
   "execution_count": null,
   "metadata": {},
   "outputs": [],
   "source": []
  },
  {
   "cell_type": "code",
   "execution_count": null,
   "metadata": {},
   "outputs": [],
   "source": []
  },
  {
   "cell_type": "markdown",
   "metadata": {},
   "source": [
    "## super()\n",
    "\n",
    "* 자식 클래스에 메서드를 추가 구현할 수 있습니다.\n",
    "\n",
    "* 부모 클래스의 내용을 사용하고자 할 때, `super()`를 사용할 수 있습니다."
   ]
  },
  {
   "cell_type": "code",
   "execution_count": null,
   "metadata": {},
   "outputs": [],
   "source": []
  },
  {
   "cell_type": "markdown",
   "metadata": {},
   "source": [
    "* 위의 코드를 보면, 상속을 했음에도 불구하고 동일한 코드가 반복됩니다. "
   ]
  },
  {
   "cell_type": "code",
   "execution_count": null,
   "metadata": {},
   "outputs": [],
   "source": [
    "# 이를 수정해봅시다."
   ]
  },
  {
   "cell_type": "code",
   "execution_count": null,
   "metadata": {},
   "outputs": [],
   "source": []
  },
  {
   "cell_type": "markdown",
   "metadata": {},
   "source": [
    "## 메서드 오버라이딩\n",
    "\n",
    "* 메서드를 재정의할 수도 있습니다."
   ]
  },
  {
   "cell_type": "code",
   "execution_count": null,
   "metadata": {},
   "outputs": [],
   "source": [
    "# 군인은 다른 인사를 합니다."
   ]
  },
  {
   "cell_type": "code",
   "execution_count": null,
   "metadata": {},
   "outputs": [],
   "source": [
    "# 군인은 다른 인사를 합니다."
   ]
  },
  {
   "cell_type": "markdown",
   "metadata": {},
   "source": [
    "## 상속관계에서의 이름공간\n",
    "\n",
    "* 기존에 인스턴스 -> 클래스순으로 이름 공간을 탐색해나가는 과정에서 상속관계에 있으면 아래와 같이 확장됩니다.\n",
    "\n",
    "* instance => class => global\n",
    "* 인스턴스 -> 자식 클래스 -> 부모 클래스 -> 전역"
   ]
  },
  {
   "cell_type": "markdown",
   "metadata": {},
   "source": [
    "## 실습1 \n",
    "\n",
    "> Teacher 클래스를 만들어보고 Student와 Teacher 클래스에 각각 다른 행동의 메소드들을 하나씩 추가해봅시다."
   ]
  },
  {
   "cell_type": "code",
   "execution_count": null,
   "metadata": {},
   "outputs": [],
   "source": [
    "# 아래에 코드를 작성해주세요.\n",
    "class Teacher(Person):\n",
    "    \n",
    "    def __init__(self,name,age,major,carrer):\n",
    "        super().__init__(name,age)\n",
    "        self.major = major\n",
    "        self.carrer = carrer\n",
    "    \n",
    "    def teaching(self,student):\n",
    "        print(f'{student.name}를 가르치고 있습니다.')\n",
    "    \n",
    "    def punish(self,student):\n",
    "        print(f'{student.name}을 체벌하고 있습니다.')\n",
    "        student.hp -= 10\n",
    "\n",
    "    def __gt__(self, other):\n",
    "        return self.carrer > other.carrer\n",
    "    \n",
    "    def __eq__(self, other):\n",
    "        return self.carrer == other.carrer\n",
    "    \n",
    "    def __ge__(self, other):\n",
    "        return self.carrer >= other.carrer"
   ]
  },
  {
   "cell_type": "code",
   "execution_count": null,
   "metadata": {},
   "outputs": [],
   "source": [
    "john = Teacher('godjohn', 34, 'unknown', 7)\n",
    "ashley = Teacher('godshley', 32, 'unknown', 5)\n",
    "kim = Student('kim', 28, 2012312377)\n",
    "Jo = Student('Jo', 28, 2012112498)\n",
    "\n",
    "john.teaching(kim)\n",
    "john.punish(Jo)\n",
    "john > ashley\n",
    "Jo.weight\n",
    "kim.weight"
   ]
  },
  {
   "cell_type": "markdown",
   "metadata": {},
   "source": [
    "## 실습2\n",
    "\n",
    "> 사실 사람은 포유류입니다. \n",
    ">\n",
    "> Animal Class를 만들고, Person클래스가 상속받도록 구성해봅시다.\n",
    ">\n",
    "> 변수나, 메소드는 자유롭게 만들어봅시다."
   ]
  },
  {
   "cell_type": "code",
   "execution_count": null,
   "metadata": {},
   "outputs": [],
   "source": [
    "# 아래에 코드를 작성해주세요.\n",
    "import random\n",
    "\n",
    "class Animal:\n",
    "    def __init__(self):\n",
    "        self.weight = random.randint(30,140)\n",
    "        self.height = random.randint(70,200)"
   ]
  },
  {
   "cell_type": "markdown",
   "metadata": {},
   "source": [
    "## 다중 상속\n",
    "두개 이상의 클래스를 상속받는 경우, 다중상속이 됩니다.\n",
    "\n",
    "- 현업에서 잘안씀, 된다라는것만 알자"
   ]
  },
  {
   "cell_type": "code",
   "execution_count": null,
   "metadata": {},
   "outputs": [],
   "source": [
    "# Person 클래스를 정의합니다."
   ]
  },
  {
   "cell_type": "code",
   "execution_count": null,
   "metadata": {},
   "outputs": [],
   "source": []
  },
  {
   "cell_type": "code",
   "execution_count": null,
   "metadata": {},
   "outputs": [],
   "source": [
    "# Mom 클래스를 정의합니다."
   ]
  },
  {
   "cell_type": "code",
   "execution_count": null,
   "metadata": {},
   "outputs": [],
   "source": []
  },
  {
   "cell_type": "code",
   "execution_count": null,
   "metadata": {},
   "outputs": [],
   "source": [
    "# Dad 클래스를 정의합니다."
   ]
  },
  {
   "cell_type": "code",
   "execution_count": null,
   "metadata": {},
   "outputs": [],
   "source": []
  },
  {
   "cell_type": "code",
   "execution_count": null,
   "metadata": {},
   "outputs": [],
   "source": [
    "# Child 클래스를 정의합니다."
   ]
  },
  {
   "cell_type": "code",
   "execution_count": null,
   "metadata": {},
   "outputs": [],
   "source": []
  },
  {
   "cell_type": "code",
   "execution_count": null,
   "metadata": {},
   "outputs": [],
   "source": [
    "# Child 의 인스턴스 객체를 확인합니다."
   ]
  },
  {
   "cell_type": "code",
   "execution_count": null,
   "metadata": {},
   "outputs": [],
   "source": []
  },
  {
   "cell_type": "code",
   "execution_count": null,
   "metadata": {},
   "outputs": [],
   "source": [
    "# cry 메서드를 실행합니다."
   ]
  },
  {
   "cell_type": "code",
   "execution_count": null,
   "metadata": {},
   "outputs": [],
   "source": []
  },
  {
   "cell_type": "code",
   "execution_count": null,
   "metadata": {},
   "outputs": [],
   "source": [
    "# swim 메서드를 실행합니다."
   ]
  },
  {
   "cell_type": "code",
   "execution_count": null,
   "metadata": {},
   "outputs": [],
   "source": []
  },
  {
   "cell_type": "code",
   "execution_count": null,
   "metadata": {},
   "outputs": [],
   "source": [
    "# walk 메서드를 실행합니다."
   ]
  },
  {
   "cell_type": "code",
   "execution_count": null,
   "metadata": {},
   "outputs": [],
   "source": []
  },
  {
   "cell_type": "code",
   "execution_count": null,
   "metadata": {},
   "outputs": [],
   "source": [
    "# gene 은 누구의 속성을 참조할까요?"
   ]
  },
  {
   "cell_type": "code",
   "execution_count": null,
   "metadata": {},
   "outputs": [],
   "source": []
  },
  {
   "cell_type": "code",
   "execution_count": null,
   "metadata": {},
   "outputs": [],
   "source": [
    "# 상속 순서를 바꿔봅시다."
   ]
  },
  {
   "cell_type": "code",
   "execution_count": null,
   "metadata": {},
   "outputs": [],
   "source": []
  },
  {
   "cell_type": "code",
   "execution_count": null,
   "metadata": {},
   "outputs": [],
   "source": [
    "# Child 의 인스턴스 객체를 확인합니다."
   ]
  },
  {
   "cell_type": "code",
   "execution_count": null,
   "metadata": {},
   "outputs": [],
   "source": []
  },
  {
   "cell_type": "code",
   "execution_count": null,
   "metadata": {},
   "outputs": [],
   "source": [
    "# cry메서드를 실행합니다."
   ]
  },
  {
   "cell_type": "code",
   "execution_count": null,
   "metadata": {},
   "outputs": [],
   "source": []
  },
  {
   "cell_type": "code",
   "execution_count": null,
   "metadata": {},
   "outputs": [],
   "source": [
    "# swim 메서드를 실행합니다."
   ]
  },
  {
   "cell_type": "code",
   "execution_count": null,
   "metadata": {},
   "outputs": [],
   "source": []
  },
  {
   "cell_type": "code",
   "execution_count": null,
   "metadata": {},
   "outputs": [],
   "source": [
    "# walk 메서드를 실행합니다."
   ]
  },
  {
   "cell_type": "code",
   "execution_count": null,
   "metadata": {},
   "outputs": [],
   "source": []
  },
  {
   "cell_type": "code",
   "execution_count": null,
   "metadata": {},
   "outputs": [],
   "source": [
    "# gene 은 누구의 속성을 참조할까요?"
   ]
  },
  {
   "cell_type": "code",
   "execution_count": null,
   "metadata": {},
   "outputs": [],
   "source": []
  },
  {
   "cell_type": "markdown",
   "metadata": {},
   "source": [
    "## 포켓몬 구현하기\n",
    "\n",
    "> 포켓몬을 상속하는 이상해씨, 파이리, 꼬부기를 구현해 봅시다. 게임을 만든다면 아래와 같이 먼저 기획을 하고 코드로 구현하게 됩니다.\n",
    "우선 아래와 같이 구현해 보고, 추가로 본인이 원하는 대로 구현 및 수정해 봅시다.\n",
    "\n",
    "모든 포켓몬은 다음과 같은 속성을 갖습니다.\n",
    "* `name`: 이름\n",
    "* `level`: 레벨\n",
    "    * 레벨은 시작할 때 모두 5 입니다.\n",
    "* `hp`: 체력\n",
    "    * 체력은 `level` * 20 입니다.\n",
    "* `exp`: 경험치\n",
    "    * 상대방을 쓰러뜨리면 상대방 `level` * 15 를 획득합니다.\n",
    "    * 경험치는 `level` * 100 이 되면, 레벨이 하나 올라가고 0부터 추가 됩니다. \n",
    "\n",
    "이후 이상해씨, 파이리, 꼬부기는 포켓몬을 상속하여 자유롭게 구현해 봅시다.\n",
    "\n",
    "추가적으로 \n",
    "\n",
    "* 포켓몬 => 물포켓몬 => 꼬부기 \n",
    "* 포켓몬 => 물포켓몬 => 잉어킹\n",
    "* 포켓몬 => 비행포켓몬, 불포켓몬 => 파이어\n",
    "\n",
    "와 같이 다양한 추가 상속관계도 구현해 봅시다."
   ]
  },
  {
   "cell_type": "code",
   "execution_count": 15,
   "metadata": {},
   "outputs": [
    {
     "name": "stdout",
     "output_type": "stream",
     "text": [
      "piakchu은(는) 사망했다.\n",
      "Firetail은(는) 사망했다.\n"
     ]
    }
   ],
   "source": [
    "import random\n",
    "\n",
    "nonskills = {\n",
    " '__class__',\n",
    " '__del__',\n",
    " '__delattr__',\n",
    " '__dict__',\n",
    " '__dir__',\n",
    " '__doc__',\n",
    " '__eq__',\n",
    " '__format__',\n",
    " '__ge__',\n",
    " '__getattribute__',\n",
    " '__gt__',\n",
    " '__hash__',\n",
    " '__init__',\n",
    " '__init_subclass__',\n",
    " '__le__',\n",
    " '__lt__',\n",
    " '__module__',\n",
    " '__ne__',\n",
    " '__new__',\n",
    " '__reduce__',\n",
    " '__reduce_ex__',\n",
    " '__repr__',\n",
    " '__setattr__',\n",
    " '__sizeof__',\n",
    " '__str__',\n",
    " '__subclasshook__',\n",
    " '__weakref__',\n",
    " 'agile',\n",
    " 'cure',\n",
    " 'exp',\n",
    " 'height',\n",
    " 'hp',\n",
    " 'level',\n",
    " 'name',\n",
    " 'property',\n",
    " 'weight'            \n",
    "}\n",
    "\n",
    "class Poketmon:\n",
    "    \n",
    "    def __init__(self,name):\n",
    "        self.weight = str(random.randint(20,1000)) + 'kg'\n",
    "        self.height = str(random.randint(20,250)) + 'm'\n",
    "        self.name = name\n",
    "        self.level = 5\n",
    "        self.hp = self.level * 20\n",
    "        self.exp = 0\n",
    "        self.agile = random.uniform(0,0.5)\n",
    "    \n",
    "    def __del__(self):\n",
    "        print(f'{self.name}은(는) 사망했다.')\n",
    "    \n",
    "    def crush(self, other):\n",
    "        dmg = 10\n",
    "        print(f'가라! {self.name}! 몸통박치기!!')\n",
    "        if other.hp <= 0:\n",
    "            print('워워, 이미 죽은상대는 공격할 수 없습니다!!')\n",
    "        else:\n",
    "            if random.random() > other.agile:\n",
    "                other.hp -= dmg\n",
    "                print('명중했다!')\n",
    "                print(f'{other.name}의 hp가 {other.hp + dmg} => {other.hp}가 되었다.')\n",
    "                if other.hp <= 0:\n",
    "                    print(f'{other.name}이(가) 전투불능상태에 빠졌다')\n",
    "                    self.exp += other.level * 15\n",
    "                    print(f'경험치 {other.level*15}를 획득했다.')\n",
    "                    if self.exp >= self.level * 100:\n",
    "                        self.exp = self.exp - self.level * 100\n",
    "                        self.level += 1\n",
    "                        print(f'{self.name}의 레벨이 {self.level-1}에서 {self.level}로 올랐다!')\n",
    "                        print(f'{self.name}의 현재 경험치는 {self.exp}. 레벨업까지 {self.level*100 - self.exp}남았다.')\n",
    "                        \n",
    "    def cure(self):\n",
    "        print(f'{self.name}을(를)회복시켜줘!')\n",
    "        print('기력이 되살아난다.')\n",
    "        print('............')\n",
    "        print(f'{self.name}이(가) 모든 기력을 회복했다.')\n",
    "        self.hp = self.level * 20\n",
    "\n",
    "    def bark(self,other):\n",
    "        print(f'{self.name}(이)가 {other.name}을(를) 위협했다!')\n",
    "        \n",
    "class WaterPoketmon(Poketmon):\n",
    "    \n",
    "    def __init__(self,name):\n",
    "        super().__init__(name)\n",
    "        self.property = 'water'\n",
    "    \n",
    "    def skill(self, other):\n",
    "        dmg = 25\n",
    "        print(f'가라! {self.name}! 물대포발사!!')\n",
    "        if other.hp <= 0:\n",
    "            print('워워, 이미 죽은상대는 공격할 수 없습니다!!')\n",
    "        else:\n",
    "            if random.random() > other.agile:\n",
    "                if other.property == 'fire':\n",
    "                    other.hp -= dmg * 2\n",
    "                    print('치명적 데미지! 상당한 효과가 있었다!!')\n",
    "                    print(f'{other.name}의 hp가 {other.hp + dmg * 2} => {other.hp}가 되었다.')\n",
    "                    if other.hp <= 0:\n",
    "                        print(f'{other.name}이(가) 전투불능상태에 빠졌다')\n",
    "                        self.exp += other.level * 15\n",
    "                        print(f'경험치 {other.level*15}를 획득했다.')\n",
    "                        if self.exp >= self.level * 100:\n",
    "                            self.exp = self.exp - self.level * 100\n",
    "                            self.level += 1\n",
    "                            print(f'{self.name}의 레벨이 {self.level-1}에서 {self.level}로 올랐다!')\n",
    "                            print(f'{self.name}의 현재 경험치는 {self.exp}. 레벨업까지 {self.level*100 - self.exp}남았다.')\n",
    "                else:\n",
    "                    other.hp -= dmg\n",
    "                    print('명중했다!')\n",
    "                    print(f'{other.name}의 hp가 {other.hp + dmg} => {other.hp}가 되었다.')\n",
    "                    if other.hp <= 0:\n",
    "                        print(f'{other.name}이(가) 전투불능상태에 빠졌다')\n",
    "                        self.exp += other.level * 15\n",
    "                        print(f'경험치 {other.level*15}를 획득했다.')\n",
    "                        if self.exp >= self.level * 100:\n",
    "                            self.exp = self.exp - self.level * 100\n",
    "                            self.level += 1\n",
    "                            print(f'{self.name}의 레벨이 {self.level-1}에서 {self.level}로 올랐다!')\n",
    "                            print(f'{self.name}의 현재 경험치는 {self.exp}. 레벨업까지 {self.level*100 - self.exp}남았다.')\n",
    "            else:\n",
    "                print(f'이런! {other.name}(이)가 공격을 회피했다.')\n",
    "                print('아무일도 일어나지 않았다.')\n",
    "    \n",
    "    def ult(self, other):\n",
    "        dmg = 60\n",
    "        print(f'가라! {self.name}! 포세이돈!!!!')\n",
    "        if other.hp <= 0:\n",
    "            print('워워, 이미 죽은상대는 공격할 수 없습니다!!')\n",
    "        else:\n",
    "            if other.property == 'fire':\n",
    "                other.hp -= dmg * 2\n",
    "                print('치명적 데미지! 상당한 효과가 있었다!!')\n",
    "                print(f'{other.name}의 hp가 {other.hp + dmg * 2} => {other.hp}가 되었다.')\n",
    "                if other.hp <= 0:\n",
    "                    print(f'{other.name}이(가) 전투불능상태에 빠졌다')\n",
    "                    self.exp += other.level * 15\n",
    "                    print(f'경험치 {other.level*15}를 획득했다.')\n",
    "                    if self.exp >= self.level * 100:\n",
    "                        self.exp = self.exp - self.level * 100\n",
    "                        self.level += 1\n",
    "                        print(f'{self.name}의 레벨이 {self.level-1}에서 {self.level}로 올랐다!')\n",
    "                        print(f'{self.name}의 현재 경험치는 {self.exp}. 레벨업까지 {self.level*100 - self.exp}남았다.')\n",
    "            else:\n",
    "                other.hp -= dmg\n",
    "                print('명중했다!')\n",
    "                print(f'{other.name}의 hp가 {other.hp + dmg} => {other.hp}가 되었다.')\n",
    "                if other.hp <= 0:\n",
    "                    print(f'{other.name}이(가) 전투불능상태에 빠졌다')\n",
    "                    self.exp += other.level * 15\n",
    "                    print(f'경험치 {other.level*15}를 획득했다.')\n",
    "                    if self.exp >= self.level * 100:\n",
    "                        self.exp = self.exp - self.level * 100\n",
    "                        self.level += 1\n",
    "                        print(f'{self.name}의 레벨이 {self.level-1}에서 {self.level}로 올랐다!')\n",
    "                        print(f'{self.name}의 현재 경험치는 {self.exp}. 레벨업까지 {self.level*100 - self.exp}남았다.')\n",
    "        \n",
    "    def __repr__(self):\n",
    "        return f'name : {self.name} \\nweight : {self.weight} height : {self.height}\\nlevel : {self.level} hp : {self.hp}\\nexp : {self.exp} agile : {self.agile}\\n skills :{set(dir(self)) - nonskills}'\n",
    "                        \n",
    "\n",
    "\n",
    "class FirePoketmon(Poketmon):\n",
    "    \n",
    "    def __init__(self,name):\n",
    "        super().__init__(name)\n",
    "        self.property = 'fire'\n",
    "    \n",
    "    def skill(self, other):\n",
    "        dmg = 25\n",
    "        print(f'가라! {self.name}! 파이어볼!!')\n",
    "        if other.hp <= 0:\n",
    "            print('워워, 이미 죽은상대는 공격할 수 없습니다!!')\n",
    "        else:\n",
    "            if random.random() > other.agile:\n",
    "                if other.property == 'tree':\n",
    "                    other.hp -= dmg * 2\n",
    "                    print('치명적 데미지! 상당한 효과가 있었다!!')\n",
    "                    print(f'{other.name}의 hp가 {other.hp + dmg * 2} => {other.hp}가 되었다.')\n",
    "                    if other.hp <= 0:\n",
    "                        print(f'{other.name}이(가) 전투불능상태에 빠졌다')\n",
    "                        self.exp += other.level * 15\n",
    "                        print(f'경험치 {other.level*15}를 획득했다.')\n",
    "                        if self.exp >= self.level * 100:\n",
    "                            self.exp = self.exp - self.level * 100\n",
    "                            self.level += 1\n",
    "                            print(f'{self.name}의 레벨이 {self.level-1}에서 {self.level}로 올랐다!')\n",
    "                            print(f'{self.name}의 현재 경험치는 {self.exp}. 레벨업까지 {self.level*100 - self.exp}남았다.')\n",
    "                else:\n",
    "                    other.hp -= dmg\n",
    "                    print('명중했다!')\n",
    "                    print(f'{other.name}의 hp가 {other.hp + dmg} => {other.hp}가 되었다.')\n",
    "                    if other.hp <= 0:\n",
    "                        print(f'{other.name}이(가) 전투불능상태에 빠졌다')\n",
    "                        self.exp += other.level * 15\n",
    "                        print(f'경험치 {other.level*15}를 획득했다.')\n",
    "                        if self.exp >= self.level * 100:\n",
    "                            self.exp = self.exp - self.level * 100\n",
    "                            self.level += 1\n",
    "                            print(f'{self.name}의 레벨이 {self.level-1}에서 {self.level}로 올랐다!')\n",
    "                            print(f'{self.name}의 현재 경험치는 {self.exp}. 레벨업까지 {self.level*100 - self.exp}남았다.')\n",
    "            else:\n",
    "                print(f'이런! {other.name}(이)가 공격을 회피했다.')\n",
    "                print('아무일도 일어나지 않았다.')\n",
    "    \n",
    "    def ult(self, other):\n",
    "        dmg = 60\n",
    "        print(f'가라! {self.name}! 볼케이노!!!!')\n",
    "        if other.hp <= 0:\n",
    "            print('워워, 이미 죽은상대는 공격할 수 없습니다!!')\n",
    "        else:\n",
    "            if other.property == 'tree':\n",
    "                other.hp -= dmg * 2\n",
    "                print('치명적 데미지! 상당한 효과가 있었다!!')\n",
    "                print(f'{other.name}의 hp가 {other.hp + dmg * 2} => {other.hp}가 되었다.')\n",
    "                if other.hp <= 0:\n",
    "                    print(f'{other.name}이(가) 전투불능상태에 빠졌다')\n",
    "                    self.exp += other.level * 15\n",
    "                    print(f'경험치 {other.level*15}를 획득했다.')\n",
    "                    if self.exp >= self.level * 100:\n",
    "                        self.exp = self.exp - self.level * 100\n",
    "                        self.level += 1\n",
    "                        print(f'{self.name}의 레벨이 {self.level-1}에서 {self.level}로 올랐다!')\n",
    "                        print(f'{self.name}의 현재 경험치는 {self.exp}. 레벨업까지 {self.level*100 - self.exp}남았다.')\n",
    "            else:\n",
    "                other.hp -= dmg\n",
    "                print('명중했다!')\n",
    "                print(f'{other.name}의 hp가 {other.hp + dmg} => {other.hp}가 되었다.')\n",
    "                if other.hp <= 0:\n",
    "                    print(f'{other.name}이(가) 전투불능상태에 빠졌다')\n",
    "                    self.exp += other.level * 15\n",
    "                    print(f'경험치 {other.level*15}를 획득했다.')\n",
    "                    if self.exp >= self.level * 100:\n",
    "                        self.exp = self.exp - self.level * 100\n",
    "                        self.level += 1\n",
    "                        print(f'{self.name}의 레벨이 {self.level-1}에서 {self.level}로 올랐다!')\n",
    "                        print(f'{self.name}의 현재 경험치는 {self.exp}. 레벨업까지 {self.level*100 - self.exp}남았다.')\n",
    "    def __repr__(self):\n",
    "        return f'name : {self.name} \\nweight : {self.weight} height : {self.height}\\nlevel : {self.level} hp : {self.hp}\\nexp : {self.exp} agile : {self.agile}\\n skills :{set(dir(self)) - nonskills}'\n",
    "                        \n",
    "class ElectricPoketmon(Poketmon):\n",
    "    \n",
    "    def __init__(self,name):\n",
    "        super().__init__(name)\n",
    "        self.property = 'electricity'\n",
    "    \n",
    "    def skill(self, other):\n",
    "        dmg = 25\n",
    "        print(f'가라! {self.name}! 100만 볼트!!!')\n",
    "        if other.hp <= 0:\n",
    "            print('워워, 이미 죽은상대는 공격할 수 없습니다!!')\n",
    "        else:\n",
    "            if random.random() > other.agile:\n",
    "                if other.property == 'water':\n",
    "                    other.hp -= dmg * 2\n",
    "                    print('치명적 데미지! 상당한 효과가 있었다!!')\n",
    "                    print(f'{other.name}의 hp가 {other.hp + dmg * 2} => {other.hp}가 되었다.')\n",
    "                    if other.hp <= 0:\n",
    "                        print(f'{other.name}이(가) 전투불능상태에 빠졌다')\n",
    "                        self.exp += other.level * 15\n",
    "                        print(f'경험치 {other.level*15}를 획득했다.')\n",
    "                        if self.exp >= self.level * 100:\n",
    "                            self.exp = self.exp - self.level * 100\n",
    "                            self.level += 1\n",
    "                            print(f'{self.name}의 레벨이 {self.level-1}에서 {self.level}로 올랐다!')\n",
    "                            print(f'{self.name}의 현재 경험치는 {self.exp}. 레벨업까지 {self.level*100 - self.exp}남았다.')\n",
    "                else:\n",
    "                    other.hp -= dmg\n",
    "                    print('명중했다!')\n",
    "                    print(f'{other.name}의 hp가 {other.hp + dmg} => {other.hp}가 되었다.')\n",
    "                    if other.hp <= 0:\n",
    "                        print(f'{other.name}이(가) 전투불능상태에 빠졌다')\n",
    "                        self.exp += other.level * 15\n",
    "                        print(f'경험치 {other.level*15}를 획득했다.')\n",
    "                        if self.exp >= self.level * 100:\n",
    "                            self.exp = self.exp - self.level * 100\n",
    "                            self.level += 1\n",
    "                            print(f'{self.name}의 레벨이 {self.level-1}에서 {self.level}로 올랐다!')\n",
    "                            print(f'{self.name}의 현재 경험치는 {self.exp}. 레벨업까지 {self.level*100 - self.exp}남았다.')\n",
    "            else:\n",
    "                print(f'이런! {other.name}(이)가 공격을 회피했다.')\n",
    "                print('아무일도 일어나지 않았다.')\n",
    "    \n",
    "    def ult(self, other):\n",
    "        dmg = 60\n",
    "        print(f'가라! {self.name}! 토르의 번개!!!!')\n",
    "        if other.hp <= 0:\n",
    "            print('워워, 이미 죽은상대는 공격할 수 없습니다!!')\n",
    "        else:\n",
    "            if other.property == 'water':\n",
    "                other.hp -= dmg * 2\n",
    "                print('치명적 데미지! 상당한 효과가 있었다!!')\n",
    "                print(f'{other.name}의 hp가 {other.hp + dmg * 2} => {other.hp}가 되었다.')\n",
    "                if other.hp <= 0:\n",
    "                    print(f'{other.name}이(가) 전투불능상태에 빠졌다')\n",
    "                    self.exp += other.level * 15\n",
    "                    print(f'경험치 {other.level*15}를 획득했다.')\n",
    "                    if self.exp >= self.level * 100:\n",
    "                        self.exp = self.exp - self.level * 100\n",
    "                        self.level += 1\n",
    "                        print(f'{self.name}의 레벨이 {self.level-1}에서 {self.level}로 올랐다!')\n",
    "                        print(f'{self.name}의 현재 경험치는 {self.exp}. 레벨업까지 {self.level*100 - self.exp}남았다.')\n",
    "            else:\n",
    "                other.hp -= dmg\n",
    "                print('명중했다!')\n",
    "                print(f'{other.name}의 hp가 {other.hp + dmg} => {other.hp}가 되었다.')\n",
    "                if other.hp <= 0:\n",
    "                    print(f'{other.name}이(가) 전투불능상태에 빠졌다')\n",
    "                    self.exp += other.level * 15\n",
    "                    print(f'경험치 {other.level*15}를 획득했다.')\n",
    "                    if self.exp >= self.level * 100:\n",
    "                        self.exp = self.exp - self.level * 100\n",
    "                        self.level += 1\n",
    "                        print(f'{self.name}의 레벨이 {self.level-1}에서 {self.level}로 올랐다!')\n",
    "                        print(f'{self.name}의 현재 경험치는 {self.exp}. 레벨업까지 {self.level*100 - self.exp}남았다.')\n",
    "    \n",
    "\n",
    "    def __repr__(self):\n",
    "        return f'name : {self.name} \\nweight : {self.weight} height : {self.height}\\nlevel : {self.level} hp : {self.hp}\\nexp : {self.exp} agile : {self.agile}\\n skills :{set(dir(self)) - nonskills}'\n",
    "                        \n",
    "                    \n",
    "def Poketfight(p1,p2):\n",
    "    act= ['crush','skill','ult','cure','bark']\n",
    "    while True:\n",
    "        print(f'\\n-----{p1.name}-------')\n",
    "        act1 = random.choice(act)\n",
    "        if act1 == act[0]:\n",
    "            p1.crush(p2)\n",
    "        elif act1 == act[1]:\n",
    "            p1.skill(p2)\n",
    "        elif act1 == act[2]:\n",
    "            p1.ult(p2)\n",
    "        elif act1 == act[4]:\n",
    "            p1.bark(p2)\n",
    "        else:\n",
    "            p1.cure()\n",
    "        print(f'\\n-----{p2.name}-------')\n",
    "        act2 = random.choice(act)\n",
    "        if act2 == act[0]:\n",
    "            p2.crush(p1)\n",
    "        elif act2 == act[1]:\n",
    "            p2.skill(p1)\n",
    "        elif act2 == act[2]:\n",
    "            p2.ult(p1)\n",
    "        elif act2 == act[4]:\n",
    "            p2.bark(p1)\n",
    "        else:\n",
    "            p2.cure()\n",
    "        if p1.hp <= 0:\n",
    "            print(f'{p2.name}(이)가 승리했다!')\n",
    "            break\n",
    "        if p2.hp <= 0:\n",
    "            print(f'{p1.name}(이)가 승리했다!')\n",
    "            break\n",
    "        "
   ]
  },
  {
   "cell_type": "code",
   "execution_count": 16,
   "metadata": {},
   "outputs": [
    {
     "name": "stdout",
     "output_type": "stream",
     "text": [
      "piakchu은(는) 사망했다.\n",
      "Firetail은(는) 사망했다.\n",
      "Kobuggi은(는) 사망했다.\n"
     ]
    }
   ],
   "source": [
    "pikachu = ElectricPoketmon('piakchu')\n",
    "Firetail = FirePoketmon('Firetail')\n",
    "Kobuggi = WaterPoketmon('Kobuggi')\n"
   ]
  },
  {
   "cell_type": "code",
   "execution_count": 20,
   "metadata": {},
   "outputs": [
    {
     "name": "stdout",
     "output_type": "stream",
     "text": [
      "piakchu을(를)회복시켜줘!\n",
      "기력이 되살아난다.\n",
      "............\n",
      "piakchu이(가) 모든 기력을 회복했다.\n",
      "Firetail을(를)회복시켜줘!\n",
      "기력이 되살아난다.\n",
      "............\n",
      "Firetail이(가) 모든 기력을 회복했다.\n",
      "#1\n",
      "\n",
      "-----piakchu-------\n",
      "가라! piakchu! 토르의 번개!!!!\n",
      "명중했다!\n",
      "Firetail의 hp가 100 => 40가 되었다.\n",
      "\n",
      "-----Firetail-------\n",
      "Firetail(이)가 piakchu을(를) 위협했다!\n",
      "\n",
      "-----piakchu-------\n",
      "piakchu(이)가 Firetail을(를) 위협했다!\n",
      "\n",
      "-----Firetail-------\n",
      "Firetail(이)가 piakchu을(를) 위협했다!\n",
      "\n",
      "-----piakchu-------\n",
      "가라! piakchu! 100만 볼트!!!\n",
      "명중했다!\n",
      "Firetail의 hp가 40 => 15가 되었다.\n",
      "\n",
      "-----Firetail-------\n",
      "Firetail을(를)회복시켜줘!\n",
      "기력이 되살아난다.\n",
      "............\n",
      "Firetail이(가) 모든 기력을 회복했다.\n",
      "\n",
      "-----piakchu-------\n",
      "가라! piakchu! 토르의 번개!!!!\n",
      "명중했다!\n",
      "Firetail의 hp가 100 => 40가 되었다.\n",
      "\n",
      "-----Firetail-------\n",
      "가라! Firetail! 몸통박치기!!\n",
      "\n",
      "-----piakchu-------\n",
      "가라! piakchu! 토르의 번개!!!!\n",
      "명중했다!\n",
      "Firetail의 hp가 40 => -20가 되었다.\n",
      "Firetail이(가) 전투불능상태에 빠졌다\n",
      "경험치 75를 획득했다.\n",
      "\n",
      "-----Firetail-------\n",
      "가라! Firetail! 볼케이노!!!!\n",
      "명중했다!\n",
      "piakchu의 hp가 100 => 40가 되었다.\n",
      "piakchu(이)가 승리했다!\n",
      "ㅡㅡㅡㅡㅡㅡㅡㅡㅡ\n",
      "piakchu을(를)회복시켜줘!\n",
      "기력이 되살아난다.\n",
      "............\n",
      "piakchu이(가) 모든 기력을 회복했다.\n",
      "Firetail을(를)회복시켜줘!\n",
      "기력이 되살아난다.\n",
      "............\n",
      "Firetail이(가) 모든 기력을 회복했다.\n",
      "#2\n",
      "\n",
      "-----piakchu-------\n",
      "가라! piakchu! 토르의 번개!!!!\n",
      "명중했다!\n",
      "Firetail의 hp가 100 => 40가 되었다.\n",
      "\n",
      "-----Firetail-------\n",
      "가라! Firetail! 볼케이노!!!!\n",
      "명중했다!\n",
      "piakchu의 hp가 100 => 40가 되었다.\n",
      "\n",
      "-----piakchu-------\n",
      "가라! piakchu! 100만 볼트!!!\n",
      "명중했다!\n",
      "Firetail의 hp가 40 => 15가 되었다.\n",
      "\n",
      "-----Firetail-------\n",
      "가라! Firetail! 볼케이노!!!!\n",
      "명중했다!\n",
      "piakchu의 hp가 40 => -20가 되었다.\n",
      "piakchu이(가) 전투불능상태에 빠졌다\n",
      "경험치 75를 획득했다.\n",
      "Firetail의 레벨이 5에서 6로 올랐다!\n",
      "Firetail의 현재 경험치는 25. 레벨업까지 575남았다.\n",
      "Firetail(이)가 승리했다!\n"
     ]
    }
   ],
   "source": [
    "for i in range(10):\n",
    "    pikachu.cure()\n",
    "    Firetail.cure()\n",
    "    print(f'#{i+1}')\n",
    "    Poketfight(pikachu,Firetail)\n"
   ]
  },
  {
   "cell_type": "code",
   "execution_count": null,
   "metadata": {},
   "outputs": [],
   "source": []
  },
  {
   "cell_type": "code",
   "execution_count": null,
   "metadata": {},
   "outputs": [],
   "source": []
  }
 ],
 "metadata": {
  "kernelspec": {
   "display_name": "Python 3",
   "language": "python",
   "name": "python3"
  },
  "language_info": {
   "codemirror_mode": {
    "name": "ipython",
    "version": 3
   },
   "file_extension": ".py",
   "mimetype": "text/x-python",
   "name": "python",
   "nbconvert_exporter": "python",
   "pygments_lexer": "ipython3",
   "version": "3.7.3"
  },
  "latex_envs": {
   "LaTeX_envs_menu_present": true,
   "autoclose": false,
   "autocomplete": true,
   "bibliofile": "biblio.bib",
   "cite_by": "apalike",
   "current_citInitial": 1,
   "eqLabelWithNumbers": true,
   "eqNumInitial": 1,
   "hotkeys": {
    "equation": "Ctrl-E",
    "itemize": "Ctrl-I"
   },
   "labels_anchors": false,
   "latex_user_defs": false,
   "report_style_numbering": false,
   "user_envs_cfg": false
  },
  "toc": {
   "base_numbering": 1,
   "nav_menu": {},
   "number_sections": true,
   "sideBar": true,
   "skip_h1_title": false,
   "title_cell": "Table of Contents",
   "title_sidebar": "Contents",
   "toc_cell": false,
   "toc_position": {},
   "toc_section_display": true,
   "toc_window_display": false
  }
 },
 "nbformat": 4,
 "nbformat_minor": 2
}
